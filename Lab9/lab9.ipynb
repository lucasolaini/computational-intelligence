{
 "cells": [
  {
   "cell_type": "markdown",
   "metadata": {},
   "source": [
    "Copyright **`(c)`** 2023 Giovanni Squillero `<giovanni.squillero@polito.it>`  \n",
    "[`https://github.com/squillero/computational-intelligence`](https://github.com/squillero/computational-intelligence)  \n",
    "Free for personal or classroom use; see [`LICENSE.md`](https://github.com/squillero/computational-intelligence/blob/master/LICENSE.md) for details.  "
   ]
  },
  {
   "cell_type": "markdown",
   "metadata": {},
   "source": [
    "# LAB9\n",
    "\n",
    "Write a local-search algorithm (eg. an EA) able to solve the *Problem* instances 1, 2, 5, and 10 on a 1000-loci genomes, using a minimum number of fitness calls. That's all.\n",
    "\n",
    "### Deadlines:\n",
    "\n",
    "* Submission: Sunday, December 3 ([CET](https://www.timeanddate.com/time/zones/cet))\n",
    "* Reviews: Sunday, December 10 ([CET](https://www.timeanddate.com/time/zones/cet))\n",
    "\n",
    "Notes:\n",
    "\n",
    "* Reviews will be assigned  on Monday, December 4\n",
    "* You need to commit in order to be selected as a reviewer (ie. better to commit an empty work than not to commit)"
   ]
  },
  {
   "cell_type": "code",
   "execution_count": 4,
   "metadata": {},
   "outputs": [],
   "source": [
    "from random import random, choice, randint, choices, sample, shuffle\n",
    "from dataclasses import dataclass\n",
    "from copy import copy\n",
    "import numpy as np\n",
    "import pandas as pd\n",
    "\n",
    "import lab9_lib"
   ]
  },
  {
   "cell_type": "markdown",
   "metadata": {},
   "source": [
    "### Individual class\n",
    "Class used to store the fitness and the genotype of each individual."
   ]
  },
  {
   "cell_type": "code",
   "execution_count": 5,
   "metadata": {},
   "outputs": [],
   "source": [
    "@dataclass\n",
    "class Individual:\n",
    "    fitness: tuple\n",
    "    genotype: list[bool]"
   ]
  },
  {
   "cell_type": "markdown",
   "metadata": {},
   "source": [
    "### Crossover Methods\n",
    "Set of crossover methods. Given two individuals: recombinate them to generate a new individual."
   ]
  },
  {
   "cell_type": "code",
   "execution_count": 6,
   "metadata": {},
   "outputs": [],
   "source": [
    "def one_cut_xover(ind1: Individual, ind2: Individual) -> Individual:\n",
    "    assert len(ind1.genotype) == len(ind2.genotype)\n",
    "\n",
    "    k = len(ind1.genotype)\n",
    "    cut_point = randint(0, k-1)\n",
    "    offspring = Individual(fitness=None, genotype=ind1.genotype[:cut_point] + ind2.genotype[cut_point:])\n",
    "    assert len(offspring.genotype) == k\n",
    "    \n",
    "    return offspring\n",
    "\n",
    "def n_cuts_xover(ind1: Individual, ind2: Individual, n: int = 2) -> Individual:\n",
    "    assert len(ind1.genotype) == len(ind2.genotype)\n",
    "\n",
    "    k = len(ind1.genotype)\n",
    "    \n",
    "    cut_points = sorted(sample(range(k), n))\n",
    "    genotype = []\n",
    "    prev_cut_point = 0\n",
    "    for i in range(len(cut_points)):\n",
    "        if i % 2 == 0:\n",
    "            genotype += ind1.genotype[prev_cut_point:cut_points[i]]\n",
    "        else:\n",
    "            genotype += ind2.genotype[prev_cut_point:cut_points[i]]\n",
    "        prev_cut_point = cut_points[i]\n",
    "\n",
    "    if len(cut_points) % 2 == 0:\n",
    "        genotype += ind1.genotype[prev_cut_point:]\n",
    "    else:\n",
    "        genotype += ind2.genotype[prev_cut_point:]\n",
    "\n",
    "    \n",
    "    offspring = Individual(fitness=None, genotype=genotype)\n",
    "    assert len(offspring.genotype) == k\n",
    "\n",
    "    return offspring\n",
    "\n",
    "def uniform_xover(ind1: Individual, ind2: Individual) -> Individual:\n",
    "        assert len(ind1.genotype) == len(ind2.genotype)\n",
    "\n",
    "        k = len(ind1.genotype)\n",
    "        genotype = []\n",
    "        for i in range(k):\n",
    "            if i % 2 == 0:\n",
    "                genotype.append(ind1.genotype[i])\n",
    "            else:\n",
    "                genotype.append(ind2.genotype[i])\n",
    "\n",
    "        offspring = Individual(fitness=None, genotype=genotype)\n",
    "        assert len(offspring.genotype) == k\n",
    "\n",
    "        return offspring\n",
    "\n",
    "def my_xover(ind1: Individual, ind2: Individual) -> Individual:\n",
    "        assert len(ind1.genotype) == len(ind2.genotype)\n",
    "\n",
    "        k = len(ind1.genotype)\n",
    "        cut_point = int((ind1.fitness / (ind1.fitness + ind2.fitness)) * k)\n",
    "        offspring = Individual(fitness=None, genotype=ind1.genotype[:cut_point] + ind2.genotype[cut_point:])\n",
    "        assert len(offspring.genotype) == k\n",
    "        \n",
    "        return offspring"
   ]
  },
  {
   "cell_type": "code",
   "execution_count": 7,
   "metadata": {},
   "outputs": [],
   "source": [
    "xovers = [one_cut_xover, n_cuts_xover, uniform_xover, my_xover]"
   ]
  },
  {
   "cell_type": "markdown",
   "metadata": {},
   "source": [
    "### Mutation Methods"
   ]
  },
  {
   "cell_type": "code",
   "execution_count": 8,
   "metadata": {},
   "outputs": [],
   "source": [
    "def single_gene_mutate(ind: Individual) -> Individual:\n",
    "    k = len(ind.genotype)\n",
    "    offspring = copy(ind)\n",
    "    pos = randint(0, k-1)\n",
    "    offspring.genotype[pos] = not offspring.genotype[pos]\n",
    "    offspring.fitness = None\n",
    "    \n",
    "    return offspring\n",
    "\n",
    "def variable_strength_mutate(ind: Individual) -> Individual:\n",
    "    k = len(ind.genotype)\n",
    "    offspring = copy(ind)\n",
    "    strength = 0.5\n",
    "\n",
    "    while(random() < strength):\n",
    "        pos = randint(0, k-1)\n",
    "        offspring.genotype[pos] = not offspring.genotype[pos]\n",
    "        offspring.fitness = None\n",
    "\n",
    "    return offspring\n",
    "\n",
    "def swap_mutate(ind: Individual) -> Individual:\n",
    "    k = len(ind.genotype)\n",
    "    offspring = copy(ind)\n",
    "    pos1, pos2 = sample(range(k), 2)\n",
    "    tmp = offspring.genotype[pos1]\n",
    "    offspring.genotype[pos1] = offspring.genotype[pos2]\n",
    "    offspring.genotype[pos2] = tmp\n",
    "\n",
    "    return offspring\n",
    "\n",
    "def inversion_mutate(ind: Individual) -> Individual:\n",
    "    k = len(ind.genotype)\n",
    "    offspring = copy(ind)\n",
    "    pos1, pos2 = sorted(sample(range(k), 2))\n",
    "    offspring.genotype[pos1:pos2] = [1 - value for value in offspring.genotype[pos1:pos2]]\n",
    "\n",
    "    return offspring"
   ]
  },
  {
   "cell_type": "code",
   "execution_count": 9,
   "metadata": {},
   "outputs": [],
   "source": [
    "mutates = [single_gene_mutate, variable_strength_mutate, swap_mutate, inversion_mutate]"
   ]
  },
  {
   "cell_type": "markdown",
   "metadata": {},
   "source": [
    "### Parent Selection Methods"
   ]
  },
  {
   "cell_type": "code",
   "execution_count": 10,
   "metadata": {},
   "outputs": [],
   "source": [
    "def tournament_selection(population: list[Individual], tournament_size: int = 2) -> Individual:\n",
    "    pool = [choice(population) for _ in range(tournament_size)]\n",
    "    champion = max(pool, key=lambda i: i.fitness)\n",
    "    return champion"
   ]
  },
  {
   "cell_type": "markdown",
   "metadata": {},
   "source": [
    "### Survival selection methods"
   ]
  },
  {
   "cell_type": "code",
   "execution_count": 98,
   "metadata": {},
   "outputs": [],
   "source": [
    "def steady_state(population: list[Individual], offsprings: list[Individual]) -> Individual:\n",
    "    population_size = len(population)\n",
    "    population.extend(offsprings)\n",
    "    population.sort(key=lambda i: i.fitness, reverse=True)\n",
    "    population = population[:population_size]\n",
    "\n",
    "    return population"
   ]
  },
  {
   "cell_type": "markdown",
   "metadata": {},
   "source": [
    "### Termination Conditions"
   ]
  },
  {
   "cell_type": "code",
   "execution_count": 12,
   "metadata": {},
   "outputs": [],
   "source": [
    "def terminate(ind: Individual) -> bool:\n",
    "    return ind.fitness == 1.0"
   ]
  },
  {
   "cell_type": "markdown",
   "metadata": {},
   "source": [
    "### Population Initialization "
   ]
  },
  {
   "cell_type": "code",
   "execution_count": 13,
   "metadata": {},
   "outputs": [],
   "source": [
    "def initialize_population(k, population_size, fitness) -> list[Individual]:\n",
    "    population = [\n",
    "    Individual(\n",
    "        genotype=[choice([0, 1]) for _ in range(k)],\n",
    "        fitness=None,\n",
    "    )\n",
    "    for _ in range(population_size)\n",
    "    ]\n",
    "\n",
    "    for i in population:\n",
    "        i.fitness = fitness(i.genotype)\n",
    "\n",
    "    return population"
   ]
  },
  {
   "cell_type": "markdown",
   "metadata": {},
   "source": [
    "### Migration Methods"
   ]
  },
  {
   "cell_type": "code",
   "execution_count": 132,
   "metadata": {},
   "outputs": [],
   "source": [
    "def random_migrate(population1: list[Individual], population2: list[Individual], migrants: int = 2) -> tuple[list[Individual], list[Individual]]:\n",
    "    l1 = len(population1)\n",
    "    l2 = len(population2)\n",
    "\n",
    "    migrants_population1 = sample(range(l1), migrants)\n",
    "    migrants_population2 = sample(range(l2), migrants)\n",
    "\n",
    "    for m1, m2 in zip(migrants_population1, migrants_population2):\n",
    "        population2[m1], population1[m2] = population1[m1], population2[m2]\n",
    "\n",
    "    return (population1, population2)"
   ]
  },
  {
   "cell_type": "code",
   "execution_count": 144,
   "metadata": {},
   "outputs": [],
   "source": [
    "migrates = [random_migrate]"
   ]
  },
  {
   "cell_type": "markdown",
   "metadata": {},
   "source": [
    "### Self-Adaptive mutation probability"
   ]
  },
  {
   "cell_type": "code",
   "execution_count": 16,
   "metadata": {},
   "outputs": [],
   "source": [
    "from scipy.spatial.distance import cityblock\n",
    "\n",
    "def average_manhattan_distance(ls: list[list[int]]):\n",
    "    total_distance = 0\n",
    "    counter = 0\n",
    "\n",
    "    for i in range(len(ls)):\n",
    "        for j in range(i+1, len(ls)):\n",
    "            total_distance += cityblock(ls[i], ls[j])\n",
    "            counter += 1\n",
    "\n",
    "    return (total_distance / counter) / len(ls[0])\n",
    "\n",
    "def self_adapt(population: list[Individual], mutation_probability: float):\n",
    "    new_mutation_probability = mutation_probability\n",
    "    genotypes = [ind.genotype for ind in population]\n",
    "\n",
    "    if average_manhattan_distance(genotypes) < 1 / 10:\n",
    "        new_mutation_probability *= 1.1\n",
    "    else:\n",
    "        new_mutation_probability /= 1.1\n",
    "\n",
    "    return new_mutation_probability"
   ]
  },
  {
   "cell_type": "markdown",
   "metadata": {},
   "source": [
    "### Evolution Algorithm"
   ]
  },
  {
   "cell_type": "code",
   "execution_count": 17,
   "metadata": {},
   "outputs": [],
   "source": [
    "def evolution_algorithm(population: list[Individual], num_generations: int, mutation_probability: int,\n",
    "                        offspring_size: int, mutate: callable, xover: callable, fitness: callable,\n",
    "                        parent_selection: callable, survival_selection: callable, terminate: callable,\n",
    "                        self_adaptive_prob=False, verbose=False) -> tuple[float, int]:\n",
    "        fitness_calls = 0\n",
    "        counter = 0\n",
    "\n",
    "        for generation in range(num_generations):\n",
    "            old_best = population[0].fitness\n",
    "            offspring = list()\n",
    "            for _ in range(offspring_size):\n",
    "                if random() < mutation_probability:\n",
    "                    p = parent_selection(population)\n",
    "                    o = mutate(p)\n",
    "                else:\n",
    "                    p1 = parent_selection(population)\n",
    "                    p2 = parent_selection(population)\n",
    "                    o = xover(p1, p2)\n",
    "                offspring.append(o)\n",
    "\n",
    "            for i in offspring:\n",
    "                i.fitness = fitness(i.genotype)\n",
    "                fitness_calls += 1\n",
    "\n",
    "            population = survival_selection(population, offspring)\n",
    "\n",
    "            if verbose:\n",
    "                print(f\"Generation: {generation+1} \\t Best individual fitness: {population[0].fitness} \\t mutation probability: {mutation_probability}\")\n",
    "\n",
    "            if self_adaptive_prob:\n",
    "                if generation % 100 == 0 and generation != 0:\n",
    "                    mutation_probability = self_adapt(population, mutation_probability)\n",
    "\n",
    "            if terminate(population[0]):\n",
    "                break\n",
    "\n",
    "            if old_best == population[0].fitness:\n",
    "                 counter += 1\n",
    "                 if counter > 100:\n",
    "                    break\n",
    "            else:\n",
    "                 counter = 0\n",
    " \n",
    "        return (population[0].fitness, fitness_calls)"
   ]
  },
  {
   "cell_type": "markdown",
   "metadata": {},
   "source": [
    "### Island model"
   ]
  },
  {
   "cell_type": "code",
   "execution_count": 142,
   "metadata": {},
   "outputs": [],
   "source": [
    "def island_model(population: list[Individual], num_generations: int, mutation_probability: int,\n",
    "                offspring_size: int, mutate: callable, xover: callable, fitness: callable,\n",
    "                parent_selection: callable, survival_selection: callable, terminate: callable,\n",
    "                n_sub_populations: int, migrate: callable, migration_rate: int, self_adaptive_prob=False, \n",
    "                verbose=False) -> tuple[float, int]:\n",
    "        fitness_calls = 0\n",
    "        best_fitness = 0\n",
    "        sub_populations = [population[i::n_sub_populations] for i in range(n_sub_populations)]\n",
    "\n",
    "        for generation in range(num_generations):\n",
    "            old_best = best_fitness\n",
    "\n",
    "            for j, sub_population in enumerate(sub_populations):\n",
    "                offspring = list()\n",
    "                for _ in range(offspring_size):\n",
    "                    if random() < mutation_probability:\n",
    "                        p = parent_selection(sub_population)\n",
    "                        o = mutate(p)\n",
    "                    else:\n",
    "                        p1 = parent_selection(sub_population)\n",
    "                        p2 = parent_selection(sub_population)\n",
    "                        o = xover(p1, p2)\n",
    "                    offspring.append(o)\n",
    "\n",
    "                for i in offspring:\n",
    "                    i.fitness = fitness(i.genotype)\n",
    "                    fitness_calls += 1\n",
    "                \n",
    "                sub_populations[j] = survival_selection(sub_population, offspring)\n",
    "\n",
    "            if generation % migration_rate == 0 and generation != 0:\n",
    "                shuffle(sub_populations)\n",
    "                for ind in range(0, len(sub_populations), 2):\n",
    "                    sub_populations[ind], sub_populations[ind+1] = migrate(sub_populations[ind], sub_populations[ind+1])\n",
    "\n",
    "            best_fitness = max(sub_population[0].fitness for sub_population in sub_populations)\n",
    "            if verbose:\n",
    "                print(f\"Generation: {generation+1} \\t Best individual fitness: {best_fitness} \\t mutation probability: {mutation_probability}\")\n",
    "\n",
    "            if self_adaptive_prob:\n",
    "                if generation % 100 == 0 and generation != 0:\n",
    "                    mutation_probability = self_adapt(population, mutation_probability)\n",
    "\n",
    "            if terminate(population[0]):\n",
    "                break\n",
    "\n",
    "            if old_best == best_fitness:\n",
    "                 counter += 1\n",
    "                 if counter > 100:\n",
    "                    break\n",
    "            else:\n",
    "                 counter = 0\n",
    "\n",
    "        best_fitness = max(sub_population[0].fitness for sub_population in sub_populations)\n",
    "        return (best_fitness, fitness_calls)"
   ]
  },
  {
   "cell_type": "markdown",
   "metadata": {},
   "source": [
    "# Problem Solution"
   ]
  },
  {
   "cell_type": "markdown",
   "metadata": {},
   "source": [
    "### a) Testing the Evolution algorithm *without* promoting diversity"
   ]
  },
  {
   "cell_type": "markdown",
   "metadata": {},
   "source": [
    "Setting parameters'values"
   ]
  },
  {
   "cell_type": "code",
   "execution_count": 19,
   "metadata": {},
   "outputs": [],
   "source": [
    "NUM_GENERATIONS = 10000\n",
    "K = 1000\n",
    "POPULATION_SIZE = 50\n",
    "OFFSPRING_SIZE = 33\n",
    "MUTATION_PROBABILITY = 0.15"
   ]
  },
  {
   "cell_type": "markdown",
   "metadata": {},
   "source": [
    "Example of EA *without* self-adapting mutation probability"
   ]
  },
  {
   "cell_type": "code",
   "execution_count": 20,
   "metadata": {},
   "outputs": [
    {
     "data": {
      "text/plain": [
       "(0.982, 44649)"
      ]
     },
     "execution_count": 20,
     "metadata": {},
     "output_type": "execute_result"
    }
   ],
   "source": [
    "fitness = lab9_lib.make_problem(1)\n",
    "population = initialize_population(K, POPULATION_SIZE, fitness)\n",
    "\n",
    "best_fitness, fitness_calls = evolution_algorithm(population, NUM_GENERATIONS, MUTATION_PROBABILITY, OFFSPRING_SIZE,\n",
    "                                                single_gene_mutate, one_cut_xover, fitness,\n",
    "                                                tournament_selection, steady_state, terminate,\n",
    "                                                verbose=False, self_adaptive_prob=False)\n",
    "\n",
    "best_fitness, fitness_calls"
   ]
  },
  {
   "cell_type": "markdown",
   "metadata": {},
   "source": [
    "Example of EA *with* self-adapting mutation probability"
   ]
  },
  {
   "cell_type": "code",
   "execution_count": 21,
   "metadata": {},
   "outputs": [
    {
     "data": {
      "text/plain": [
       "(0.965, 34023)"
      ]
     },
     "execution_count": 21,
     "metadata": {},
     "output_type": "execute_result"
    }
   ],
   "source": [
    "fitness = lab9_lib.make_problem(1)\n",
    "population = initialize_population(K, POPULATION_SIZE, fitness)\n",
    "\n",
    "best_fitness, fitness_calls = evolution_algorithm(population, NUM_GENERATIONS, MUTATION_PROBABILITY, OFFSPRING_SIZE,\n",
    "                                                single_gene_mutate, one_cut_xover, fitness,\n",
    "                                                tournament_selection, steady_state, terminate,\n",
    "                                                verbose=False, self_adaptive_prob=True)\n",
    "\n",
    "best_fitness, fitness_calls"
   ]
  },
  {
   "cell_type": "markdown",
   "metadata": {},
   "source": [
    "Test all xover / mutation methods implemented and store the result in a Pandas dataframe"
   ]
  },
  {
   "cell_type": "code",
   "execution_count": 22,
   "metadata": {},
   "outputs": [],
   "source": [
    "columns = ['fitness function', 'xover', 'mutate', 'self adapting probability', 'best fitness value', 'fitness calls']\n",
    "df = pd.DataFrame(columns=columns)"
   ]
  },
  {
   "cell_type": "code",
   "execution_count": 59,
   "metadata": {},
   "outputs": [
    {
     "ename": "KeyboardInterrupt",
     "evalue": "",
     "output_type": "error",
     "traceback": [
      "\u001b[1;31m---------------------------------------------------------------------------\u001b[0m",
      "\u001b[1;31mKeyboardInterrupt\u001b[0m                         Traceback (most recent call last)",
      "\u001b[1;32mc:\\Users\\lucas\\Universita\\computational_intelligence\\computational-intelligence\\Lab9\\lab9.ipynb Cell 38\u001b[0m line \u001b[0;36m1\n\u001b[0;32m     <a href='vscode-notebook-cell:/c%3A/Users/lucas/Universita/computational_intelligence/computational-intelligence/Lab9/lab9.ipynb#X46sZmlsZQ%3D%3D?line=9'>10</a>\u001b[0m \u001b[39mfor\u001b[39;00m mutate \u001b[39min\u001b[39;00m mutates:\n\u001b[0;32m     <a href='vscode-notebook-cell:/c%3A/Users/lucas/Universita/computational_intelligence/computational-intelligence/Lab9/lab9.ipynb#X46sZmlsZQ%3D%3D?line=10'>11</a>\u001b[0m         \u001b[39mfor\u001b[39;00m self_adaptive_prob \u001b[39min\u001b[39;00m self_adaptive_options:\n\u001b[1;32m---> <a href='vscode-notebook-cell:/c%3A/Users/lucas/Universita/computational_intelligence/computational-intelligence/Lab9/lab9.ipynb#X46sZmlsZQ%3D%3D?line=12'>13</a>\u001b[0m             best_fitness, fitness_calls \u001b[39m=\u001b[39m evolution_algorithm(\n\u001b[0;32m     <a href='vscode-notebook-cell:/c%3A/Users/lucas/Universita/computational_intelligence/computational-intelligence/Lab9/lab9.ipynb#X46sZmlsZQ%3D%3D?line=13'>14</a>\u001b[0m                                                     population, \n\u001b[0;32m     <a href='vscode-notebook-cell:/c%3A/Users/lucas/Universita/computational_intelligence/computational-intelligence/Lab9/lab9.ipynb#X46sZmlsZQ%3D%3D?line=14'>15</a>\u001b[0m                                                     NUM_GENERATIONS, MUTATION_PROBABILITY, OFFSPRING_SIZE,\n\u001b[0;32m     <a href='vscode-notebook-cell:/c%3A/Users/lucas/Universita/computational_intelligence/computational-intelligence/Lab9/lab9.ipynb#X46sZmlsZQ%3D%3D?line=15'>16</a>\u001b[0m                                                     mutate, xover, fitness,\n\u001b[0;32m     <a href='vscode-notebook-cell:/c%3A/Users/lucas/Universita/computational_intelligence/computational-intelligence/Lab9/lab9.ipynb#X46sZmlsZQ%3D%3D?line=16'>17</a>\u001b[0m                                                     tournament_selection, steady_state, terminate,\n\u001b[0;32m     <a href='vscode-notebook-cell:/c%3A/Users/lucas/Universita/computational_intelligence/computational-intelligence/Lab9/lab9.ipynb#X46sZmlsZQ%3D%3D?line=17'>18</a>\u001b[0m                                                     verbose\u001b[39m=\u001b[39;49m\u001b[39mFalse\u001b[39;49;00m, self_adaptive_prob\u001b[39m=\u001b[39;49mself_adaptive_prob\n\u001b[0;32m     <a href='vscode-notebook-cell:/c%3A/Users/lucas/Universita/computational_intelligence/computational-intelligence/Lab9/lab9.ipynb#X46sZmlsZQ%3D%3D?line=18'>19</a>\u001b[0m                                                     )\n\u001b[0;32m     <a href='vscode-notebook-cell:/c%3A/Users/lucas/Universita/computational_intelligence/computational-intelligence/Lab9/lab9.ipynb#X46sZmlsZQ%3D%3D?line=20'>21</a>\u001b[0m             \u001b[39m# store the result in the dataframe\u001b[39;00m\n\u001b[0;32m     <a href='vscode-notebook-cell:/c%3A/Users/lucas/Universita/computational_intelligence/computational-intelligence/Lab9/lab9.ipynb#X46sZmlsZQ%3D%3D?line=21'>22</a>\u001b[0m             df\u001b[39m.\u001b[39mloc[counter] \u001b[39m=\u001b[39m [\n\u001b[0;32m     <a href='vscode-notebook-cell:/c%3A/Users/lucas/Universita/computational_intelligence/computational-intelligence/Lab9/lab9.ipynb#X46sZmlsZQ%3D%3D?line=22'>23</a>\u001b[0m                  fitness_number,\n\u001b[0;32m     <a href='vscode-notebook-cell:/c%3A/Users/lucas/Universita/computational_intelligence/computational-intelligence/Lab9/lab9.ipynb#X46sZmlsZQ%3D%3D?line=23'>24</a>\u001b[0m                  xover\u001b[39m.\u001b[39m\u001b[39m__name__\u001b[39m,\n\u001b[1;32m   (...)\u001b[0m\n\u001b[0;32m     <a href='vscode-notebook-cell:/c%3A/Users/lucas/Universita/computational_intelligence/computational-intelligence/Lab9/lab9.ipynb#X46sZmlsZQ%3D%3D?line=27'>28</a>\u001b[0m                  fitness_calls\n\u001b[0;32m     <a href='vscode-notebook-cell:/c%3A/Users/lucas/Universita/computational_intelligence/computational-intelligence/Lab9/lab9.ipynb#X46sZmlsZQ%3D%3D?line=28'>29</a>\u001b[0m                  ]\n",
      "\u001b[1;32mc:\\Users\\lucas\\Universita\\computational_intelligence\\computational-intelligence\\Lab9\\lab9.ipynb Cell 38\u001b[0m line \u001b[0;36m2\n\u001b[0;32m     <a href='vscode-notebook-cell:/c%3A/Users/lucas/Universita/computational_intelligence/computational-intelligence/Lab9/lab9.ipynb#X46sZmlsZQ%3D%3D?line=18'>19</a>\u001b[0m     offspring\u001b[39m.\u001b[39mappend(o)\n\u001b[0;32m     <a href='vscode-notebook-cell:/c%3A/Users/lucas/Universita/computational_intelligence/computational-intelligence/Lab9/lab9.ipynb#X46sZmlsZQ%3D%3D?line=20'>21</a>\u001b[0m \u001b[39mfor\u001b[39;00m i \u001b[39min\u001b[39;00m offspring:\n\u001b[1;32m---> <a href='vscode-notebook-cell:/c%3A/Users/lucas/Universita/computational_intelligence/computational-intelligence/Lab9/lab9.ipynb#X46sZmlsZQ%3D%3D?line=21'>22</a>\u001b[0m     i\u001b[39m.\u001b[39mfitness \u001b[39m=\u001b[39m fitness(i\u001b[39m.\u001b[39;49mgenotype)\n\u001b[0;32m     <a href='vscode-notebook-cell:/c%3A/Users/lucas/Universita/computational_intelligence/computational-intelligence/Lab9/lab9.ipynb#X46sZmlsZQ%3D%3D?line=22'>23</a>\u001b[0m     fitness_calls \u001b[39m+\u001b[39m\u001b[39m=\u001b[39m \u001b[39m1\u001b[39m\n\u001b[0;32m     <a href='vscode-notebook-cell:/c%3A/Users/lucas/Universita/computational_intelligence/computational-intelligence/Lab9/lab9.ipynb#X46sZmlsZQ%3D%3D?line=24'>25</a>\u001b[0m population \u001b[39m=\u001b[39m survival_selection(population, offspring)\n",
      "File \u001b[1;32mc:\\Users\\lucas\\Universita\\computational_intelligence\\computational-intelligence\\Lab9\\lab9_lib.py:27\u001b[0m, in \u001b[0;36mAbstractProblem.__call__\u001b[1;34m(self, genome)\u001b[0m\n\u001b[0;32m     25\u001b[0m \u001b[39mdef\u001b[39;00m \u001b[39m__call__\u001b[39m(\u001b[39mself\u001b[39m, genome):\n\u001b[0;32m     26\u001b[0m     \u001b[39mself\u001b[39m\u001b[39m.\u001b[39m_calls \u001b[39m+\u001b[39m\u001b[39m=\u001b[39m \u001b[39m1\u001b[39m\n\u001b[1;32m---> 27\u001b[0m     fitnesses \u001b[39m=\u001b[39m \u001b[39msorted\u001b[39;49m((AbstractProblem\u001b[39m.\u001b[39;49monemax(genome[s :: \u001b[39mself\u001b[39;49m\u001b[39m.\u001b[39;49mx]) \u001b[39mfor\u001b[39;49;00m s \u001b[39min\u001b[39;49;00m \u001b[39mrange\u001b[39;49m(\u001b[39mself\u001b[39;49m\u001b[39m.\u001b[39;49mx)), reverse\u001b[39m=\u001b[39;49m\u001b[39mTrue\u001b[39;49;00m)\n\u001b[0;32m     28\u001b[0m     val \u001b[39m=\u001b[39m \u001b[39msum\u001b[39m(f \u001b[39mfor\u001b[39;00m f \u001b[39min\u001b[39;00m fitnesses \u001b[39mif\u001b[39;00m f \u001b[39m==\u001b[39m fitnesses[\u001b[39m0\u001b[39m]) \u001b[39m-\u001b[39m \u001b[39msum\u001b[39m(\n\u001b[0;32m     29\u001b[0m         f \u001b[39m*\u001b[39m (\u001b[39m0.1\u001b[39m \u001b[39m*\u001b[39m\u001b[39m*\u001b[39m (k \u001b[39m+\u001b[39m \u001b[39m1\u001b[39m)) \u001b[39mfor\u001b[39;00m k, f \u001b[39min\u001b[39;00m \u001b[39menumerate\u001b[39m(f \u001b[39mfor\u001b[39;00m f \u001b[39min\u001b[39;00m fitnesses \u001b[39mif\u001b[39;00m f \u001b[39m<\u001b[39m fitnesses[\u001b[39m0\u001b[39m])\n\u001b[0;32m     30\u001b[0m     )\n\u001b[0;32m     31\u001b[0m     \u001b[39mreturn\u001b[39;00m val \u001b[39m/\u001b[39m \u001b[39mlen\u001b[39m(genome)\n",
      "File \u001b[1;32mc:\\Users\\lucas\\Universita\\computational_intelligence\\computational-intelligence\\Lab9\\lab9_lib.py:27\u001b[0m, in \u001b[0;36m<genexpr>\u001b[1;34m(.0)\u001b[0m\n\u001b[0;32m     25\u001b[0m \u001b[39mdef\u001b[39;00m \u001b[39m__call__\u001b[39m(\u001b[39mself\u001b[39m, genome):\n\u001b[0;32m     26\u001b[0m     \u001b[39mself\u001b[39m\u001b[39m.\u001b[39m_calls \u001b[39m+\u001b[39m\u001b[39m=\u001b[39m \u001b[39m1\u001b[39m\n\u001b[1;32m---> 27\u001b[0m     fitnesses \u001b[39m=\u001b[39m \u001b[39msorted\u001b[39m((AbstractProblem\u001b[39m.\u001b[39;49monemax(genome[s :: \u001b[39mself\u001b[39;49m\u001b[39m.\u001b[39;49mx]) \u001b[39mfor\u001b[39;00m s \u001b[39min\u001b[39;00m \u001b[39mrange\u001b[39m(\u001b[39mself\u001b[39m\u001b[39m.\u001b[39mx)), reverse\u001b[39m=\u001b[39m\u001b[39mTrue\u001b[39;00m)\n\u001b[0;32m     28\u001b[0m     val \u001b[39m=\u001b[39m \u001b[39msum\u001b[39m(f \u001b[39mfor\u001b[39;00m f \u001b[39min\u001b[39;00m fitnesses \u001b[39mif\u001b[39;00m f \u001b[39m==\u001b[39m fitnesses[\u001b[39m0\u001b[39m]) \u001b[39m-\u001b[39m \u001b[39msum\u001b[39m(\n\u001b[0;32m     29\u001b[0m         f \u001b[39m*\u001b[39m (\u001b[39m0.1\u001b[39m \u001b[39m*\u001b[39m\u001b[39m*\u001b[39m (k \u001b[39m+\u001b[39m \u001b[39m1\u001b[39m)) \u001b[39mfor\u001b[39;00m k, f \u001b[39min\u001b[39;00m \u001b[39menumerate\u001b[39m(f \u001b[39mfor\u001b[39;00m f \u001b[39min\u001b[39;00m fitnesses \u001b[39mif\u001b[39;00m f \u001b[39m<\u001b[39m fitnesses[\u001b[39m0\u001b[39m])\n\u001b[0;32m     30\u001b[0m     )\n\u001b[0;32m     31\u001b[0m     \u001b[39mreturn\u001b[39;00m val \u001b[39m/\u001b[39m \u001b[39mlen\u001b[39m(genome)\n",
      "File \u001b[1;32mc:\\Users\\lucas\\Universita\\computational_intelligence\\computational-intelligence\\Lab9\\lab9_lib.py:23\u001b[0m, in \u001b[0;36mAbstractProblem.onemax\u001b[1;34m(genome)\u001b[0m\n\u001b[0;32m     21\u001b[0m \u001b[39m@staticmethod\u001b[39m\n\u001b[0;32m     22\u001b[0m \u001b[39mdef\u001b[39;00m \u001b[39monemax\u001b[39m(genome):\n\u001b[1;32m---> 23\u001b[0m     \u001b[39mreturn\u001b[39;00m \u001b[39msum\u001b[39;49m(\u001b[39mbool\u001b[39;49m(g) \u001b[39mfor\u001b[39;49;00m g \u001b[39min\u001b[39;49;00m genome)\n",
      "File \u001b[1;32mc:\\Users\\lucas\\Universita\\computational_intelligence\\computational-intelligence\\Lab9\\lab9_lib.py:23\u001b[0m, in \u001b[0;36m<genexpr>\u001b[1;34m(.0)\u001b[0m\n\u001b[0;32m     21\u001b[0m \u001b[39m@staticmethod\u001b[39m\n\u001b[0;32m     22\u001b[0m \u001b[39mdef\u001b[39;00m \u001b[39monemax\u001b[39m(genome):\n\u001b[1;32m---> 23\u001b[0m     \u001b[39mreturn\u001b[39;00m \u001b[39msum\u001b[39m(\u001b[39mbool\u001b[39m(g) \u001b[39mfor\u001b[39;00m g \u001b[39min\u001b[39;00m genome)\n",
      "\u001b[1;31mKeyboardInterrupt\u001b[0m: "
     ]
    }
   ],
   "source": [
    "counter = 0\n",
    "fitness_numbers = [1, 2, 5, 10]\n",
    "self_adaptive_options = [False, True]\n",
    "\n",
    "for fitness_number in fitness_numbers:\n",
    "    fitness = lab9_lib.make_problem(fitness_number)\n",
    "    # use the same initial population for each combination of xover and mutation\n",
    "    population = initialize_population(K, POPULATION_SIZE, fitness)\n",
    "    for xover in xovers:\n",
    "        for mutate in mutates:\n",
    "                for self_adaptive_prob in self_adaptive_options:\n",
    "\n",
    "                    best_fitness, fitness_calls = evolution_algorithm(\n",
    "                                                            population, \n",
    "                                                            NUM_GENERATIONS, MUTATION_PROBABILITY, OFFSPRING_SIZE,\n",
    "                                                            mutate, xover, fitness,\n",
    "                                                            tournament_selection, steady_state, terminate,\n",
    "                                                            verbose=False, self_adaptive_prob=self_adaptive_prob\n",
    "                                                            )\n",
    "                    \n",
    "                    # store the result in the dataframe\n",
    "                    df.loc[counter] = [\n",
    "                         fitness_number,\n",
    "                         xover.__name__,\n",
    "                         mutate.__name__,\n",
    "                         self_adaptive_prob,\n",
    "                         str(round(best_fitness*100, 2))+\"%\",\n",
    "                         fitness_calls\n",
    "                         ]\n",
    "                    counter += 1"
   ]
  },
  {
   "cell_type": "markdown",
   "metadata": {},
   "source": [
    "Print the result"
   ]
  },
  {
   "cell_type": "code",
   "execution_count": null,
   "metadata": {},
   "outputs": [
    {
     "name": "stdout",
     "output_type": "stream",
     "text": [
      "+----+--------------------+---------------+--------------------------+-----------------------------+----------------------+-----------------+\n",
      "|    |   fitness function | xover         | mutate                   | self adapting probability   | best fitness value   |   fitness calls |\n",
      "|----+--------------------+---------------+--------------------------+-----------------------------+----------------------+-----------------|\n",
      "|  0 |                 10 | one_cut_xover | single_gene_mutate       | False                       | 22.38%               |           57288 |\n",
      "|  1 |                 10 | one_cut_xover | single_gene_mutate       | True                        | 23.47%               |           41184 |\n",
      "|  2 |                 10 | one_cut_xover | variable_strength_mutate | False                       | 27.47%               |           75933 |\n",
      "|  3 |                 10 | one_cut_xover | variable_strength_mutate | True                        | 29.31%               |           43230 |\n",
      "|  4 |                 10 | one_cut_xover | swap_mutate              | False                       | 28.48%               |           97218 |\n",
      "|  5 |                 10 | one_cut_xover | swap_mutate              | True                        | 25.45%               |            5973 |\n",
      "|  6 |                 10 | one_cut_xover | inversion_mutate         | False                       | 27.39%               |            5973 |\n",
      "|  7 |                 10 | one_cut_xover | inversion_mutate         | True                        | 25.93%               |           12441 |\n",
      "|  8 |                 10 | n_cuts_xover  | single_gene_mutate       | False                       | 35.38%               |           82368 |\n",
      "|  9 |                 10 | n_cuts_xover  | single_gene_mutate       | True                        | 28.22%               |           54087 |\n",
      "| 10 |                 10 | n_cuts_xover  | variable_strength_mutate | False                       | 28.93%               |            5346 |\n",
      "| 11 |                 10 | n_cuts_xover  | variable_strength_mutate | True                        | 33.02%               |           11781 |\n",
      "| 12 |                 10 | n_cuts_xover  | swap_mutate              | False                       | 33.01%               |           12408 |\n",
      "| 13 |                 10 | n_cuts_xover  | swap_mutate              | True                        | 26.95%               |            6567 |\n",
      "| 14 |                 10 | n_cuts_xover  | inversion_mutate         | False                       | 22.62%               |            5412 |\n",
      "| 15 |                 10 | n_cuts_xover  | inversion_mutate         | True                        | 22.2%                |            6369 |\n",
      "| 16 |                 10 | uniform_xover | single_gene_mutate       | False                       | 25.92%               |            5379 |\n",
      "+----+--------------------+---------------+--------------------------+-----------------------------+----------------------+-----------------+\n"
     ]
    }
   ],
   "source": [
    "from tabulate import tabulate\n",
    "\n",
    "print(tabulate(df, headers = 'keys', tablefmt = 'psql'))"
   ]
  },
  {
   "cell_type": "markdown",
   "metadata": {},
   "source": [
    "### b) Testing the Evolution algorithm promoting diversity: the Island Model"
   ]
  },
  {
   "cell_type": "markdown",
   "metadata": {},
   "source": [
    "Setting parameters'values"
   ]
  },
  {
   "cell_type": "code",
   "execution_count": 138,
   "metadata": {},
   "outputs": [],
   "source": [
    "NUM_GENERATIONS = 10000\n",
    "K = 1000\n",
    "POPULATION_SIZE = 80\n",
    "OFFSPRING_SIZE = 12\n",
    "MUTATION_PROBABILITY = 0.15\n",
    "\n",
    "MIGRATION_RATE = 100\n",
    "N_SUB_POPULATIONS = 4"
   ]
  },
  {
   "cell_type": "markdown",
   "metadata": {},
   "source": [
    "Example of Island Model *without* self-adapting mutation probability"
   ]
  },
  {
   "cell_type": "code",
   "execution_count": 140,
   "metadata": {},
   "outputs": [
    {
     "name": "stdout",
     "output_type": "stream",
     "text": [
      "20\n",
      "20\n",
      "20\n",
      "20\n"
     ]
    },
    {
     "data": {
      "text/plain": [
       "(0.957, 81888)"
      ]
     },
     "execution_count": 140,
     "metadata": {},
     "output_type": "execute_result"
    }
   ],
   "source": [
    "fitness = lab9_lib.make_problem(1)\n",
    "population = initialize_population(K, POPULATION_SIZE, fitness)\n",
    "\n",
    "best_fitness, fitness_calls = island_model(population, NUM_GENERATIONS, MUTATION_PROBABILITY, OFFSPRING_SIZE,\n",
    "                                                single_gene_mutate, one_cut_xover, fitness,\n",
    "                                                tournament_selection, steady_state, terminate,\n",
    "                                                N_SUB_POPULATIONS, random_migrate, MIGRATION_RATE,\n",
    "                                                verbose=False, self_adaptive_prob=False)\n",
    "\n",
    "best_fitness, fitness_calls"
   ]
  },
  {
   "cell_type": "markdown",
   "metadata": {},
   "source": [
    "Example of Island Model *with* self-adapting mutation probability"
   ]
  },
  {
   "cell_type": "code",
   "execution_count": 143,
   "metadata": {},
   "outputs": [
    {
     "data": {
      "text/plain": [
       "(0.962, 129744)"
      ]
     },
     "execution_count": 143,
     "metadata": {},
     "output_type": "execute_result"
    }
   ],
   "source": [
    "fitness = lab9_lib.make_problem(1)\n",
    "population = initialize_population(K, POPULATION_SIZE, fitness)\n",
    "\n",
    "best_fitness, fitness_calls = island_model(population, NUM_GENERATIONS, MUTATION_PROBABILITY, OFFSPRING_SIZE,\n",
    "                                                single_gene_mutate, one_cut_xover, fitness,\n",
    "                                                tournament_selection, steady_state, terminate,\n",
    "                                                N_SUB_POPULATIONS, random_migrate, MIGRATION_RATE,\n",
    "                                                verbose=False, self_adaptive_prob=True)\n",
    "\n",
    "best_fitness, fitness_calls"
   ]
  },
  {
   "cell_type": "markdown",
   "metadata": {},
   "source": [
    "Test all xover / mutation methods implemented and store the result in a Pandas dataframe"
   ]
  },
  {
   "cell_type": "code",
   "execution_count": null,
   "metadata": {},
   "outputs": [],
   "source": [
    "columns = ['fitness function', 'xover', 'mutate', 'migrate', 'self adapting probability', 'best fitness value', 'fitness calls']\n",
    "df2 = pd.DataFrame(columns=columns)"
   ]
  },
  {
   "cell_type": "code",
   "execution_count": null,
   "metadata": {},
   "outputs": [],
   "source": [
    "counter = 0\n",
    "fitness_numbers = [1, 2, 5, 10]\n",
    "self_adaptive_options = [False, True]\n",
    "\n",
    "for fitness_number in fitness_numbers:\n",
    "    fitness = lab9_lib.make_problem(fitness_number)\n",
    "    # use the same initial population for each combination of xover and mutation\n",
    "    population = initialize_population(K, POPULATION_SIZE, fitness)\n",
    "    for xover in xovers:\n",
    "        for mutate in mutates:\n",
    "                for migrate in migrates:\n",
    "                    for self_adaptive_prob in self_adaptive_options:\n",
    "\n",
    "                        best_fitness, fitness_calls = island_model(\n",
    "                                                                population, \n",
    "                                                                NUM_GENERATIONS, MUTATION_PROBABILITY, OFFSPRING_SIZE,\n",
    "                                                                mutate, xover, fitness,\n",
    "                                                                tournament_selection, steady_state, terminate,\n",
    "                                                                N_SUB_POPULATIONS, random_migrate, MIGRATION_RATE,\n",
    "                                                                verbose=False, self_adaptive_prob=self_adaptive_prob\n",
    "                                                                )\n",
    "                        \n",
    "                        # store the result in the dataframe\n",
    "                        df2.loc[counter] = [\n",
    "                            fitness_number,\n",
    "                            xover.__name__,\n",
    "                            mutate.__name__,\n",
    "                            migrate.__name__,\n",
    "                            self_adaptive_prob,\n",
    "                            str(round(best_fitness*100, 2))+\"%\",\n",
    "                            fitness_calls\n",
    "                            ]\n",
    "                        counter += 1"
   ]
  },
  {
   "cell_type": "markdown",
   "metadata": {},
   "source": [
    "Print the result"
   ]
  },
  {
   "cell_type": "code",
   "execution_count": null,
   "metadata": {},
   "outputs": [],
   "source": [
    "from tabulate import tabulate\n",
    "\n",
    "print(tabulate(df, headers = 'keys', tablefmt = 'psql'))"
   ]
  }
 ],
 "metadata": {
  "kernelspec": {
   "display_name": "ci-fLJ3OwGs-py3.12",
   "language": "python",
   "name": "python3"
  },
  "language_info": {
   "codemirror_mode": {
    "name": "ipython",
    "version": 3
   },
   "file_extension": ".py",
   "mimetype": "text/x-python",
   "name": "python",
   "nbconvert_exporter": "python",
   "pygments_lexer": "ipython3",
   "version": "3.10.11"
  }
 },
 "nbformat": 4,
 "nbformat_minor": 2
}
