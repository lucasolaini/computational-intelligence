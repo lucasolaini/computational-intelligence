{
 "cells": [
  {
   "cell_type": "markdown",
   "metadata": {},
   "source": [
    "Copyright **`(c)`** 2023 Giovanni Squillero `<giovanni.squillero@polito.it>`  \n",
    "[`https://github.com/squillero/computational-intelligence`](https://github.com/squillero/computational-intelligence)  \n",
    "Free for personal or classroom use; see [`LICENSE.md`](https://github.com/squillero/computational-intelligence/blob/master/LICENSE.md) for details.  "
   ]
  },
  {
   "cell_type": "markdown",
   "metadata": {},
   "source": [
    "# LAB9\n",
    "\n",
    "Write a local-search algorithm (eg. an EA) able to solve the *Problem* instances 1, 2, 5, and 10 on a 1000-loci genomes, using a minimum number of fitness calls. That's all.\n",
    "\n",
    "### Deadlines:\n",
    "\n",
    "* Submission: Sunday, December 3 ([CET](https://www.timeanddate.com/time/zones/cet))\n",
    "* Reviews: Sunday, December 10 ([CET](https://www.timeanddate.com/time/zones/cet))\n",
    "\n",
    "Notes:\n",
    "\n",
    "* Reviews will be assigned  on Monday, December 4\n",
    "* You need to commit in order to be selected as a reviewer (ie. better to commit an empty work than not to commit)"
   ]
  },
  {
   "cell_type": "code",
   "execution_count": 1,
   "metadata": {},
   "outputs": [],
   "source": [
    "from random import random, choice, randint, choices, sample, shuffle\n",
    "from dataclasses import dataclass\n",
    "from copy import copy\n",
    "import numpy as np\n",
    "import pandas as pd\n",
    "\n",
    "import lab9_lib"
   ]
  },
  {
   "cell_type": "markdown",
   "metadata": {},
   "source": [
    "### Individual class\n",
    "Class used to store the fitness and the genotype of each individual."
   ]
  },
  {
   "cell_type": "code",
   "execution_count": 2,
   "metadata": {},
   "outputs": [],
   "source": [
    "@dataclass\n",
    "class Individual:\n",
    "    fitness: tuple\n",
    "    genotype: list[bool]"
   ]
  },
  {
   "cell_type": "markdown",
   "metadata": {},
   "source": [
    "### Crossover Methods\n",
    "Set of crossover methods. Given two individuals: recombinate them to generate a new individual."
   ]
  },
  {
   "cell_type": "code",
   "execution_count": 3,
   "metadata": {},
   "outputs": [],
   "source": [
    "def one_cut_xover(ind1: Individual, ind2: Individual) -> Individual:\n",
    "    assert len(ind1.genotype) == len(ind2.genotype)\n",
    "\n",
    "    k = len(ind1.genotype)\n",
    "    cut_point = randint(0, k-1)\n",
    "    offspring = Individual(fitness=None, genotype=ind1.genotype[:cut_point] + ind2.genotype[cut_point:])\n",
    "    assert len(offspring.genotype) == k\n",
    "    \n",
    "    return offspring\n",
    "\n",
    "def n_cuts_xover(ind1: Individual, ind2: Individual, n: int = 2) -> Individual:\n",
    "    assert len(ind1.genotype) == len(ind2.genotype)\n",
    "\n",
    "    k = len(ind1.genotype)\n",
    "    \n",
    "    cut_points = sorted(sample(range(k), n))\n",
    "    genotype = []\n",
    "    prev_cut_point = 0\n",
    "    for i in range(len(cut_points)):\n",
    "        if i % 2 == 0:\n",
    "            genotype += ind1.genotype[prev_cut_point:cut_points[i]]\n",
    "        else:\n",
    "            genotype += ind2.genotype[prev_cut_point:cut_points[i]]\n",
    "        prev_cut_point = cut_points[i]\n",
    "\n",
    "    if len(cut_points) % 2 == 0:\n",
    "        genotype += ind1.genotype[prev_cut_point:]\n",
    "    else:\n",
    "        genotype += ind2.genotype[prev_cut_point:]\n",
    "\n",
    "    \n",
    "    offspring = Individual(fitness=None, genotype=genotype)\n",
    "    assert len(offspring.genotype) == k\n",
    "\n",
    "    return offspring\n",
    "\n",
    "def uniform_xover(ind1: Individual, ind2: Individual) -> Individual:\n",
    "        assert len(ind1.genotype) == len(ind2.genotype)\n",
    "\n",
    "        k = len(ind1.genotype)\n",
    "        genotype = []\n",
    "        for i in range(k):\n",
    "            if i % 2 == 0:\n",
    "                genotype.append(ind1.genotype[i])\n",
    "            else:\n",
    "                genotype.append(ind2.genotype[i])\n",
    "\n",
    "        offspring = Individual(fitness=None, genotype=genotype)\n",
    "        assert len(offspring.genotype) == k\n",
    "\n",
    "        return offspring\n",
    "\n",
    "def my_xover(ind1: Individual, ind2: Individual) -> Individual:\n",
    "        assert len(ind1.genotype) == len(ind2.genotype)\n",
    "\n",
    "        k = len(ind1.genotype)\n",
    "        cut_point = int((ind1.fitness / (ind1.fitness + ind2.fitness)) * k)\n",
    "        offspring = Individual(fitness=None, genotype=ind1.genotype[:cut_point] + ind2.genotype[cut_point:])\n",
    "        assert len(offspring.genotype) == k\n",
    "        \n",
    "        return offspring"
   ]
  },
  {
   "cell_type": "code",
   "execution_count": 4,
   "metadata": {},
   "outputs": [],
   "source": [
    "xovers = [one_cut_xover, n_cuts_xover, uniform_xover, my_xover]"
   ]
  },
  {
   "cell_type": "markdown",
   "metadata": {},
   "source": [
    "### Mutation Methods"
   ]
  },
  {
   "cell_type": "code",
   "execution_count": 5,
   "metadata": {},
   "outputs": [],
   "source": [
    "def single_gene_mutate(ind: Individual) -> Individual:\n",
    "    k = len(ind.genotype)\n",
    "    offspring = copy(ind)\n",
    "    pos = randint(0, k-1)\n",
    "    offspring.genotype[pos] = not offspring.genotype[pos]\n",
    "    offspring.fitness = None\n",
    "    \n",
    "    return offspring\n",
    "\n",
    "def variable_strength_mutate(ind: Individual) -> Individual:\n",
    "    k = len(ind.genotype)\n",
    "    offspring = copy(ind)\n",
    "    strength = 0.5\n",
    "\n",
    "    while(random() < strength):\n",
    "        pos = randint(0, k-1)\n",
    "        offspring.genotype[pos] = not offspring.genotype[pos]\n",
    "        offspring.fitness = None\n",
    "\n",
    "    return offspring\n",
    "\n",
    "def swap_mutate(ind: Individual) -> Individual:\n",
    "    k = len(ind.genotype)\n",
    "    offspring = copy(ind)\n",
    "    pos1, pos2 = sample(range(k), 2)\n",
    "    tmp = offspring.genotype[pos1]\n",
    "    offspring.genotype[pos1] = offspring.genotype[pos2]\n",
    "    offspring.genotype[pos2] = tmp\n",
    "\n",
    "    return offspring\n",
    "\n",
    "def inversion_mutate(ind: Individual) -> Individual:\n",
    "    k = len(ind.genotype)\n",
    "    offspring = copy(ind)\n",
    "    pos1, pos2 = sorted(sample(range(k), 2))\n",
    "    offspring.genotype[pos1:pos2] = [1 - value for value in offspring.genotype[pos1:pos2]]\n",
    "\n",
    "    return offspring"
   ]
  },
  {
   "cell_type": "code",
   "execution_count": 6,
   "metadata": {},
   "outputs": [],
   "source": [
    "mutates = [single_gene_mutate, variable_strength_mutate, swap_mutate, inversion_mutate]"
   ]
  },
  {
   "cell_type": "markdown",
   "metadata": {},
   "source": [
    "### Parent Selection Methods"
   ]
  },
  {
   "cell_type": "code",
   "execution_count": 7,
   "metadata": {},
   "outputs": [],
   "source": [
    "def tournament_selection(population: list[Individual], tournament_size: int = 2) -> Individual:\n",
    "    pool = [choice(population) for _ in range(tournament_size)]\n",
    "    champion = max(pool, key=lambda i: i.fitness)\n",
    "    return champion"
   ]
  },
  {
   "cell_type": "markdown",
   "metadata": {},
   "source": [
    "### Survival selection methods"
   ]
  },
  {
   "cell_type": "code",
   "execution_count": 8,
   "metadata": {},
   "outputs": [],
   "source": [
    "def steady_state(population: list[Individual], offsprings: list[Individual]) -> Individual:\n",
    "    population_size = len(population)\n",
    "    population.extend(offsprings)\n",
    "    population.sort(key=lambda i: i.fitness, reverse=True)\n",
    "    population = population[:population_size]\n",
    "\n",
    "    return population"
   ]
  },
  {
   "cell_type": "markdown",
   "metadata": {},
   "source": [
    "### Termination Conditions"
   ]
  },
  {
   "cell_type": "code",
   "execution_count": 9,
   "metadata": {},
   "outputs": [],
   "source": [
    "def terminate(ind: Individual) -> bool:\n",
    "    return ind.fitness == 1.0"
   ]
  },
  {
   "cell_type": "markdown",
   "metadata": {},
   "source": [
    "### Population Initialization "
   ]
  },
  {
   "cell_type": "code",
   "execution_count": 10,
   "metadata": {},
   "outputs": [],
   "source": [
    "def initialize_population(k, population_size, fitness) -> list[Individual]:\n",
    "    population = [\n",
    "    Individual(\n",
    "        genotype=[choice([0, 1]) for _ in range(k)],\n",
    "        fitness=None,\n",
    "    )\n",
    "    for _ in range(population_size)\n",
    "    ]\n",
    "\n",
    "    for i in population:\n",
    "        i.fitness = fitness(i.genotype)\n",
    "\n",
    "    return population"
   ]
  },
  {
   "cell_type": "markdown",
   "metadata": {},
   "source": [
    "### Migration Methods"
   ]
  },
  {
   "cell_type": "code",
   "execution_count": 11,
   "metadata": {},
   "outputs": [],
   "source": [
    "def random_migrate(population1: list[Individual], population2: list[Individual], migrants: int = 2) -> tuple[list[Individual], list[Individual]]:\n",
    "    l1 = len(population1)\n",
    "    l2 = len(population2)\n",
    "\n",
    "    migrants_population1 = sample(range(l1), migrants)\n",
    "    migrants_population2 = sample(range(l2), migrants)\n",
    "\n",
    "    for m1, m2 in zip(migrants_population1, migrants_population2):\n",
    "        population2[m1], population1[m2] = population1[m1], population2[m2]\n",
    "\n",
    "    return (population1, population2)"
   ]
  },
  {
   "cell_type": "code",
   "execution_count": 12,
   "metadata": {},
   "outputs": [],
   "source": [
    "migrates = [random_migrate]"
   ]
  },
  {
   "cell_type": "markdown",
   "metadata": {},
   "source": [
    "### Self-Adaptive mutation probability"
   ]
  },
  {
   "cell_type": "code",
   "execution_count": 13,
   "metadata": {},
   "outputs": [],
   "source": [
    "from scipy.spatial.distance import cityblock\n",
    "\n",
    "def average_manhattan_distance(ls: list[list[int]]):\n",
    "    total_distance = 0\n",
    "    counter = 0\n",
    "\n",
    "    for i in range(len(ls)):\n",
    "        for j in range(i+1, len(ls)):\n",
    "            total_distance += cityblock(ls[i], ls[j])\n",
    "            counter += 1\n",
    "\n",
    "    return (total_distance / counter) / len(ls[0])\n",
    "\n",
    "def self_adapt(population: list[Individual], mutation_probability: float):\n",
    "    new_mutation_probability = mutation_probability\n",
    "    genotypes = [ind.genotype for ind in population]\n",
    "\n",
    "    if average_manhattan_distance(genotypes) < 1 / 10:\n",
    "        new_mutation_probability *= 1.1\n",
    "    else:\n",
    "        new_mutation_probability /= 1.1\n",
    "\n",
    "    return new_mutation_probability"
   ]
  },
  {
   "cell_type": "markdown",
   "metadata": {},
   "source": [
    "### Evolution Algorithm"
   ]
  },
  {
   "cell_type": "code",
   "execution_count": 14,
   "metadata": {},
   "outputs": [],
   "source": [
    "def evolution_algorithm(population: list[Individual], num_generations: int, mutation_probability: int,\n",
    "                        offspring_size: int, mutate: callable, xover: callable, fitness: callable,\n",
    "                        parent_selection: callable, survival_selection: callable, terminate: callable,\n",
    "                        self_adaptive_prob=False, verbose=False) -> tuple[float, int]:\n",
    "        fitness_calls = 0\n",
    "        counter = 0\n",
    "\n",
    "        for generation in range(num_generations):\n",
    "            old_best = population[0].fitness\n",
    "            offspring = list()\n",
    "            for _ in range(offspring_size):\n",
    "                if random() < mutation_probability:\n",
    "                    p = parent_selection(population)\n",
    "                    o = mutate(p)\n",
    "                else:\n",
    "                    p1 = parent_selection(population)\n",
    "                    p2 = parent_selection(population)\n",
    "                    o = xover(p1, p2)\n",
    "                offspring.append(o)\n",
    "\n",
    "            for i in offspring:\n",
    "                i.fitness = fitness(i.genotype)\n",
    "                fitness_calls += 1\n",
    "\n",
    "            population = survival_selection(population, offspring)\n",
    "\n",
    "            if verbose:\n",
    "                print(f\"Generation: {generation+1} \\t Best individual fitness: {population[0].fitness} \\t mutation probability: {mutation_probability}\")\n",
    "\n",
    "            if self_adaptive_prob:\n",
    "                if generation % 100 == 0 and generation != 0:\n",
    "                    mutation_probability = self_adapt(population, mutation_probability)\n",
    "\n",
    "            if terminate(population[0]):\n",
    "                break\n",
    "\n",
    "            if old_best == population[0].fitness:\n",
    "                 counter += 1\n",
    "                 if counter > 100:\n",
    "                    break\n",
    "            else:\n",
    "                 counter = 0\n",
    " \n",
    "        return (population[0].fitness, fitness_calls)"
   ]
  },
  {
   "cell_type": "markdown",
   "metadata": {},
   "source": [
    "### Island model"
   ]
  },
  {
   "cell_type": "code",
   "execution_count": 15,
   "metadata": {},
   "outputs": [],
   "source": [
    "def island_model(population: list[Individual], num_generations: int, mutation_probability: int,\n",
    "                offspring_size: int, mutate: callable, xover: callable, fitness: callable,\n",
    "                parent_selection: callable, survival_selection: callable, terminate: callable,\n",
    "                n_sub_populations: int, migrate: callable, migration_rate: int, self_adaptive_prob=False, \n",
    "                verbose=False) -> tuple[float, int]:\n",
    "        fitness_calls = 0\n",
    "        best_fitness = 0\n",
    "        sub_populations = [population[i::n_sub_populations] for i in range(n_sub_populations)]\n",
    "\n",
    "        for generation in range(num_generations):\n",
    "            old_best = best_fitness\n",
    "\n",
    "            for j, sub_population in enumerate(sub_populations):\n",
    "                offspring = list()\n",
    "                for _ in range(offspring_size):\n",
    "                    if random() < mutation_probability:\n",
    "                        p = parent_selection(sub_population)\n",
    "                        o = mutate(p)\n",
    "                    else:\n",
    "                        p1 = parent_selection(sub_population)\n",
    "                        p2 = parent_selection(sub_population)\n",
    "                        o = xover(p1, p2)\n",
    "                    offspring.append(o)\n",
    "\n",
    "                for i in offspring:\n",
    "                    i.fitness = fitness(i.genotype)\n",
    "                    fitness_calls += 1\n",
    "                \n",
    "                sub_populations[j] = survival_selection(sub_population, offspring)\n",
    "\n",
    "            if generation % migration_rate == 0 and generation != 0:\n",
    "                shuffle(sub_populations)\n",
    "                for ind in range(0, len(sub_populations), 2):\n",
    "                    sub_populations[ind], sub_populations[ind+1] = migrate(sub_populations[ind], sub_populations[ind+1])\n",
    "\n",
    "            best_fitness = max(sub_population[0].fitness for sub_population in sub_populations)\n",
    "            if verbose:\n",
    "                print(f\"Generation: {generation+1} \\t Best individual fitness: {best_fitness} \\t mutation probability: {mutation_probability}\")\n",
    "\n",
    "            if self_adaptive_prob:\n",
    "                if generation % 100 == 0 and generation != 0:\n",
    "                    mutation_probability = self_adapt(population, mutation_probability)\n",
    "\n",
    "            if terminate(population[0]):\n",
    "                break\n",
    "\n",
    "            if old_best == best_fitness:\n",
    "                 counter += 1\n",
    "                 if counter > 100:\n",
    "                    break\n",
    "            else:\n",
    "                 counter = 0\n",
    "\n",
    "        best_fitness = max(sub_population[0].fitness for sub_population in sub_populations)\n",
    "        return (best_fitness, fitness_calls)"
   ]
  },
  {
   "cell_type": "markdown",
   "metadata": {},
   "source": [
    "# Problem Solution"
   ]
  },
  {
   "cell_type": "markdown",
   "metadata": {},
   "source": [
    "### a) Testing the Evolution algorithm *without* promoting diversity"
   ]
  },
  {
   "cell_type": "markdown",
   "metadata": {},
   "source": [
    "Setting parameters'values"
   ]
  },
  {
   "cell_type": "code",
   "execution_count": 16,
   "metadata": {},
   "outputs": [],
   "source": [
    "NUM_GENERATIONS = 10000\n",
    "K = 1000\n",
    "POPULATION_SIZE = 50\n",
    "OFFSPRING_SIZE = 33\n",
    "MUTATION_PROBABILITY = 0.15"
   ]
  },
  {
   "cell_type": "markdown",
   "metadata": {},
   "source": [
    "Example of EA *without* self-adapting mutation probability"
   ]
  },
  {
   "cell_type": "code",
   "execution_count": 17,
   "metadata": {},
   "outputs": [
    {
     "data": {
      "text/plain": [
       "(0.96, 34617)"
      ]
     },
     "execution_count": 17,
     "metadata": {},
     "output_type": "execute_result"
    }
   ],
   "source": [
    "fitness = lab9_lib.make_problem(1)\n",
    "population = initialize_population(K, POPULATION_SIZE, fitness)\n",
    "\n",
    "best_fitness, fitness_calls = evolution_algorithm(population, NUM_GENERATIONS, MUTATION_PROBABILITY, OFFSPRING_SIZE,\n",
    "                                                single_gene_mutate, one_cut_xover, fitness,\n",
    "                                                tournament_selection, steady_state, terminate,\n",
    "                                                verbose=False, self_adaptive_prob=False)\n",
    "\n",
    "best_fitness, fitness_calls"
   ]
  },
  {
   "cell_type": "markdown",
   "metadata": {},
   "source": [
    "Example of EA *with* self-adapting mutation probability"
   ]
  },
  {
   "cell_type": "code",
   "execution_count": 18,
   "metadata": {},
   "outputs": [
    {
     "data": {
      "text/plain": [
       "(0.957, 33297)"
      ]
     },
     "execution_count": 18,
     "metadata": {},
     "output_type": "execute_result"
    }
   ],
   "source": [
    "fitness = lab9_lib.make_problem(1)\n",
    "population = initialize_population(K, POPULATION_SIZE, fitness)\n",
    "\n",
    "best_fitness, fitness_calls = evolution_algorithm(population, NUM_GENERATIONS, MUTATION_PROBABILITY, OFFSPRING_SIZE,\n",
    "                                                single_gene_mutate, one_cut_xover, fitness,\n",
    "                                                tournament_selection, steady_state, terminate,\n",
    "                                                verbose=False, self_adaptive_prob=True)\n",
    "\n",
    "best_fitness, fitness_calls"
   ]
  },
  {
   "cell_type": "markdown",
   "metadata": {},
   "source": [
    "Test all xover / mutation methods implemented and store the result in a Pandas dataframe"
   ]
  },
  {
   "cell_type": "code",
   "execution_count": 19,
   "metadata": {},
   "outputs": [],
   "source": [
    "columns = ['fitness function', 'xover', 'mutate', 'self adapting probability', 'best fitness value', 'fitness calls']\n",
    "df = pd.DataFrame(columns=columns)"
   ]
  },
  {
   "cell_type": "code",
   "execution_count": 20,
   "metadata": {},
   "outputs": [],
   "source": [
    "counter = 0\n",
    "fitness_numbers = [1, 2, 5, 10]\n",
    "self_adaptive_options = [False, True]\n",
    "\n",
    "for fitness_number in fitness_numbers:\n",
    "    fitness = lab9_lib.make_problem(fitness_number)\n",
    "    # use the same initial population for each combination of xover and mutation\n",
    "    population = initialize_population(K, POPULATION_SIZE, fitness)\n",
    "    for xover in xovers:\n",
    "        for mutate in mutates:\n",
    "                for self_adaptive_prob in self_adaptive_options:\n",
    "\n",
    "                    best_fitness, fitness_calls = evolution_algorithm(\n",
    "                                                            population, \n",
    "                                                            NUM_GENERATIONS, MUTATION_PROBABILITY, OFFSPRING_SIZE,\n",
    "                                                            mutate, xover, fitness,\n",
    "                                                            tournament_selection, steady_state, terminate,\n",
    "                                                            verbose=False, self_adaptive_prob=self_adaptive_prob\n",
    "                                                            )\n",
    "                    \n",
    "                    # store the result in the dataframe\n",
    "                    df.loc[counter] = [\n",
    "                         fitness_number,\n",
    "                         xover.__name__,\n",
    "                         mutate.__name__,\n",
    "                         self_adaptive_prob,\n",
    "                         str(round(best_fitness*100, 2))+\"%\",\n",
    "                         fitness_calls\n",
    "                         ]\n",
    "                    counter += 1"
   ]
  },
  {
   "cell_type": "markdown",
   "metadata": {},
   "source": [
    "Print the result"
   ]
  },
  {
   "cell_type": "code",
   "execution_count": 21,
   "metadata": {},
   "outputs": [
    {
     "name": "stdout",
     "output_type": "stream",
     "text": [
      "+-----+--------------------+---------------+--------------------------+-----------------------------+----------------------+-----------------+\n",
      "|     |   fitness function | xover         | mutate                   | self adapting probability   | best fitness value   |   fitness calls |\n",
      "|-----+--------------------+---------------+--------------------------+-----------------------------+----------------------+-----------------|\n",
      "|   0 |                  1 | one_cut_xover | single_gene_mutate       | False                       | 97.2%                |           40953 |\n",
      "|   1 |                  1 | one_cut_xover | single_gene_mutate       | True                        | 96.7%                |           42867 |\n",
      "|   2 |                  1 | one_cut_xover | variable_strength_mutate | False                       | 98.5%                |           77649 |\n",
      "|   3 |                  1 | one_cut_xover | variable_strength_mutate | True                        | 93.1%                |           52239 |\n",
      "|   4 |                  1 | one_cut_xover | swap_mutate              | False                       | 99.7%                |           78144 |\n",
      "|   5 |                  1 | one_cut_xover | swap_mutate              | True                        | 100.0%               |           56826 |\n",
      "|   6 |                  1 | one_cut_xover | inversion_mutate         | False                       | 71.1%                |           60819 |\n",
      "|   7 |                  1 | one_cut_xover | inversion_mutate         | True                        | 71.4%                |           57519 |\n",
      "|   8 |                  1 | n_cuts_xover  | single_gene_mutate       | False                       | 99.4%                |           87813 |\n",
      "|   9 |                  1 | n_cuts_xover  | single_gene_mutate       | True                        | 93.9%                |           59862 |\n",
      "|  10 |                  1 | n_cuts_xover  | variable_strength_mutate | False                       | 99.2%                |          102696 |\n",
      "|  11 |                  1 | n_cuts_xover  | variable_strength_mutate | True                        | 93.3%                |           70422 |\n",
      "|  12 |                  1 | n_cuts_xover  | swap_mutate              | False                       | 99.9%                |           98901 |\n",
      "|  13 |                  1 | n_cuts_xover  | swap_mutate              | True                        | 99.8%                |           74910 |\n",
      "|  14 |                  1 | n_cuts_xover  | inversion_mutate         | False                       | 75.7%                |           60126 |\n",
      "|  15 |                  1 | n_cuts_xover  | inversion_mutate         | True                        | 74.8%                |           38907 |\n",
      "|  16 |                  1 | uniform_xover | single_gene_mutate       | False                       | 99.6%                |          254463 |\n",
      "|  17 |                  1 | uniform_xover | single_gene_mutate       | True                        | 75.1%                |           64152 |\n",
      "|  18 |                  1 | uniform_xover | variable_strength_mutate | False                       | 98.7%                |          291291 |\n",
      "|  19 |                  1 | uniform_xover | variable_strength_mutate | True                        | 76.2%                |           75537 |\n",
      "|  20 |                  1 | uniform_xover | swap_mutate              | False                       | 99.3%                |          303270 |\n",
      "|  21 |                  1 | uniform_xover | swap_mutate              | True                        | 88.5%                |           95535 |\n",
      "|  22 |                  1 | uniform_xover | inversion_mutate         | False                       | 62.4%                |           21384 |\n",
      "|  23 |                  1 | uniform_xover | inversion_mutate         | True                        | 63.8%                |           39666 |\n",
      "|  24 |                  1 | my_xover      | single_gene_mutate       | False                       | 99.3%                |          330000 |\n",
      "|  25 |                  1 | my_xover      | single_gene_mutate       | True                        | 73.2%                |           70620 |\n",
      "|  26 |                  1 | my_xover      | variable_strength_mutate | False                       | 93.2%                |          265584 |\n",
      "|  27 |                  1 | my_xover      | variable_strength_mutate | True                        | 73.0%                |           69432 |\n",
      "|  28 |                  1 | my_xover      | swap_mutate              | False                       | 96.4%                |          330000 |\n",
      "|  29 |                  1 | my_xover      | swap_mutate              | True                        | 89.0%                |          122133 |\n",
      "|  30 |                  1 | my_xover      | inversion_mutate         | False                       | 61.9%                |           36102 |\n",
      "|  31 |                  1 | my_xover      | inversion_mutate         | True                        | 62.0%                |           21582 |\n",
      "|  32 |                  2 | one_cut_xover | single_gene_mutate       | False                       | 83.4%                |           63393 |\n",
      "|  33 |                  2 | one_cut_xover | single_gene_mutate       | True                        | 71.2%                |           36597 |\n",
      "|  34 |                  2 | one_cut_xover | variable_strength_mutate | False                       | 86.2%                |          124608 |\n",
      "|  35 |                  2 | one_cut_xover | variable_strength_mutate | True                        | 72.0%                |           46167 |\n",
      "|  36 |                  2 | one_cut_xover | swap_mutate              | False                       | 93.0%                |          167739 |\n",
      "|  37 |                  2 | one_cut_xover | swap_mutate              | True                        | 85.6%                |           81279 |\n",
      "|  38 |                  2 | one_cut_xover | inversion_mutate         | False                       | 53.4%                |            4983 |\n",
      "|  39 |                  2 | one_cut_xover | inversion_mutate         | True                        | 55.4%                |            4356 |\n",
      "|  40 |                  2 | n_cuts_xover  | single_gene_mutate       | False                       | 55.6%                |            5577 |\n",
      "|  41 |                  2 | n_cuts_xover  | single_gene_mutate       | True                        | 55.2%                |            3432 |\n",
      "|  42 |                  2 | n_cuts_xover  | variable_strength_mutate | False                       | 54.6%                |            3795 |\n",
      "|  43 |                  2 | n_cuts_xover  | variable_strength_mutate | True                        | 55.8%                |            3894 |\n",
      "|  44 |                  2 | n_cuts_xover  | swap_mutate              | False                       | 55.6%                |            5313 |\n",
      "|  45 |                  2 | n_cuts_xover  | swap_mutate              | True                        | 54.2%                |            4059 |\n",
      "|  46 |                  2 | n_cuts_xover  | inversion_mutate         | False                       | 55.6%                |            3597 |\n",
      "|  47 |                  2 | n_cuts_xover  | inversion_mutate         | True                        | 54.8%                |            4026 |\n",
      "|  48 |                  2 | uniform_xover | single_gene_mutate       | False                       | 55.8%                |            6369 |\n",
      "|  49 |                  2 | uniform_xover | single_gene_mutate       | True                        | 56.2%                |            5280 |\n",
      "|  50 |                  2 | uniform_xover | variable_strength_mutate | False                       | 55.8%                |            4785 |\n",
      "|  51 |                  2 | uniform_xover | variable_strength_mutate | True                        | 56.6%                |            4686 |\n",
      "|  52 |                  2 | uniform_xover | swap_mutate              | False                       | 55.8%                |            4125 |\n",
      "|  53 |                  2 | uniform_xover | swap_mutate              | True                        | 55.8%                |            3762 |\n",
      "|  54 |                  2 | uniform_xover | inversion_mutate         | False                       | 56.4%                |            4455 |\n",
      "|  55 |                  2 | uniform_xover | inversion_mutate         | True                        | 56.6%                |            5247 |\n",
      "|  56 |                  2 | my_xover      | single_gene_mutate       | False                       | 57.8%                |            5841 |\n",
      "|  57 |                  2 | my_xover      | single_gene_mutate       | True                        | 58.4%                |            8778 |\n",
      "|  58 |                  2 | my_xover      | variable_strength_mutate | False                       | 55.6%                |            4719 |\n",
      "|  59 |                  2 | my_xover      | variable_strength_mutate | True                        | 57.2%                |            6006 |\n",
      "|  60 |                  2 | my_xover      | swap_mutate              | False                       | 58.0%                |            6963 |\n",
      "|  61 |                  2 | my_xover      | swap_mutate              | True                        | 56.4%                |            6699 |\n",
      "|  62 |                  2 | my_xover      | inversion_mutate         | False                       | 57.4%                |            5643 |\n",
      "|  63 |                  2 | my_xover      | inversion_mutate         | True                        | 54.8%                |            3333 |\n",
      "|  64 |                  5 | one_cut_xover | single_gene_mutate       | False                       | 42.75%               |           33033 |\n",
      "|  65 |                  5 | one_cut_xover | single_gene_mutate       | True                        | 43.29%               |           22011 |\n",
      "|  66 |                  5 | one_cut_xover | variable_strength_mutate | False                       | 42.84%               |          116292 |\n",
      "|  67 |                  5 | one_cut_xover | variable_strength_mutate | True                        | 43.34%               |           37323 |\n",
      "|  68 |                  5 | one_cut_xover | swap_mutate              | False                       | 43.12%               |           54450 |\n",
      "|  69 |                  5 | one_cut_xover | swap_mutate              | True                        | 32.88%               |           10329 |\n",
      "|  70 |                  5 | one_cut_xover | inversion_mutate         | False                       | 39.89%               |            5808 |\n",
      "|  71 |                  5 | one_cut_xover | inversion_mutate         | True                        | 32.18%               |            3795 |\n",
      "|  72 |                  5 | n_cuts_xover  | single_gene_mutate       | False                       | 55.0%                |            8448 |\n",
      "|  73 |                  5 | n_cuts_xover  | single_gene_mutate       | True                        | 42.22%               |            6171 |\n",
      "|  74 |                  5 | n_cuts_xover  | variable_strength_mutate | False                       | 39.53%               |            5742 |\n",
      "|  75 |                  5 | n_cuts_xover  | variable_strength_mutate | True                        | 32.51%               |            5874 |\n",
      "|  76 |                  5 | n_cuts_xover  | swap_mutate              | False                       | 40.66%               |           10626 |\n",
      "|  77 |                  5 | n_cuts_xover  | swap_mutate              | True                        | 43.01%               |           12045 |\n",
      "|  78 |                  5 | n_cuts_xover  | inversion_mutate         | False                       | 32.61%               |            7623 |\n",
      "|  79 |                  5 | n_cuts_xover  | inversion_mutate         | True                        | 40.22%               |            7326 |\n",
      "|  80 |                  5 | uniform_xover | single_gene_mutate       | False                       | 32.51%               |            5016 |\n",
      "|  81 |                  5 | uniform_xover | single_gene_mutate       | True                        | 41.37%               |            3432 |\n",
      "|  82 |                  5 | uniform_xover | variable_strength_mutate | False                       | 40.6%                |            6996 |\n",
      "|  83 |                  5 | uniform_xover | variable_strength_mutate | True                        | 30.1%                |            3333 |\n",
      "|  84 |                  5 | uniform_xover | swap_mutate              | False                       | 39.86%               |            5478 |\n",
      "|  85 |                  5 | uniform_xover | swap_mutate              | True                        | 39.05%               |           14256 |\n",
      "|  86 |                  5 | uniform_xover | inversion_mutate         | False                       | 43.06%               |            6468 |\n",
      "|  87 |                  5 | uniform_xover | inversion_mutate         | True                        | 31.9%                |            3366 |\n",
      "|  88 |                  5 | my_xover      | single_gene_mutate       | False                       | 31.9%                |            3333 |\n",
      "|  89 |                  5 | my_xover      | single_gene_mutate       | True                        | 39.88%               |            6567 |\n",
      "|  90 |                  5 | my_xover      | variable_strength_mutate | False                       | 40.57%               |            4785 |\n",
      "|  91 |                  5 | my_xover      | variable_strength_mutate | True                        | 34.05%               |           13893 |\n",
      "|  92 |                  5 | my_xover      | swap_mutate              | False                       | 31.9%                |            3333 |\n",
      "|  93 |                  5 | my_xover      | swap_mutate              | True                        | 40.64%               |            6435 |\n",
      "|  94 |                  5 | my_xover      | inversion_mutate         | False                       | 38.7%                |            3663 |\n",
      "|  95 |                  5 | my_xover      | inversion_mutate         | True                        | 31.9%                |            3333 |\n",
      "|  96 |                 10 | one_cut_xover | single_gene_mutate       | False                       | 31.71%               |           29502 |\n",
      "|  97 |                 10 | one_cut_xover | single_gene_mutate       | True                        | 34.16%               |           37290 |\n",
      "|  98 |                 10 | one_cut_xover | variable_strength_mutate | False                       | 24.49%               |            5313 |\n",
      "|  99 |                 10 | one_cut_xover | variable_strength_mutate | True                        | 26.82%               |           47718 |\n",
      "| 100 |                 10 | one_cut_xover | swap_mutate              | False                       | 22.78%               |           95337 |\n",
      "| 101 |                 10 | one_cut_xover | swap_mutate              | True                        | 30.41%               |           55407 |\n",
      "| 102 |                 10 | one_cut_xover | inversion_mutate         | False                       | 23.98%               |            3564 |\n",
      "| 103 |                 10 | one_cut_xover | inversion_mutate         | True                        | 24.95%               |            6336 |\n",
      "| 104 |                 10 | n_cuts_xover  | single_gene_mutate       | False                       | 37.08%               |           62931 |\n",
      "| 105 |                 10 | n_cuts_xover  | single_gene_mutate       | True                        | 27.46%               |            7656 |\n",
      "| 106 |                 10 | n_cuts_xover  | variable_strength_mutate | False                       | 32.45%               |            4554 |\n",
      "| 107 |                 10 | n_cuts_xover  | variable_strength_mutate | True                        | 36.26%               |           61743 |\n",
      "| 108 |                 10 | n_cuts_xover  | swap_mutate              | False                       | 31.24%               |            6963 |\n",
      "| 109 |                 10 | n_cuts_xover  | swap_mutate              | True                        | 33.91%               |           60159 |\n",
      "| 110 |                 10 | n_cuts_xover  | inversion_mutate         | False                       | 21.79%               |            3333 |\n",
      "| 111 |                 10 | n_cuts_xover  | inversion_mutate         | True                        | 26.44%               |           10659 |\n",
      "| 112 |                 10 | uniform_xover | single_gene_mutate       | False                       | 30.05%               |            5445 |\n",
      "| 113 |                 10 | uniform_xover | single_gene_mutate       | True                        | 23.61%               |           65109 |\n",
      "| 114 |                 10 | uniform_xover | variable_strength_mutate | False                       | 23.16%               |          276804 |\n",
      "| 115 |                 10 | uniform_xover | variable_strength_mutate | True                        | 23.04%               |           22176 |\n",
      "| 116 |                 10 | uniform_xover | swap_mutate              | False                       | 26.45%               |            7458 |\n",
      "| 117 |                 10 | uniform_xover | swap_mutate              | True                        | 25.46%               |            3861 |\n",
      "| 118 |                 10 | uniform_xover | inversion_mutate         | False                       | 25.45%               |            6006 |\n",
      "| 119 |                 10 | uniform_xover | inversion_mutate         | True                        | 31.87%               |           12738 |\n",
      "| 120 |                 10 | my_xover      | single_gene_mutate       | False                       | 31.86%               |           10263 |\n",
      "| 121 |                 10 | my_xover      | single_gene_mutate       | True                        | 27.89%               |            7788 |\n",
      "| 122 |                 10 | my_xover      | variable_strength_mutate | False                       | 26.45%               |            7161 |\n",
      "| 123 |                 10 | my_xover      | variable_strength_mutate | True                        | 25.92%               |            5676 |\n",
      "| 124 |                 10 | my_xover      | swap_mutate              | False                       | 28.88%               |            5907 |\n",
      "| 125 |                 10 | my_xover      | swap_mutate              | True                        | 26.44%               |            7755 |\n",
      "| 126 |                 10 | my_xover      | inversion_mutate         | False                       | 21.81%               |            4323 |\n",
      "| 127 |                 10 | my_xover      | inversion_mutate         | True                        | 27.42%               |            6666 |\n",
      "+-----+--------------------+---------------+--------------------------+-----------------------------+----------------------+-----------------+\n"
     ]
    }
   ],
   "source": [
    "from tabulate import tabulate\n",
    "\n",
    "print(tabulate(df, headers = 'keys', tablefmt = 'psql'))"
   ]
  },
  {
   "cell_type": "markdown",
   "metadata": {},
   "source": [
    "### b) Testing the Evolution algorithm promoting diversity: the Island Model"
   ]
  },
  {
   "cell_type": "markdown",
   "metadata": {},
   "source": [
    "Setting parameters'values"
   ]
  },
  {
   "cell_type": "code",
   "execution_count": 22,
   "metadata": {},
   "outputs": [],
   "source": [
    "NUM_GENERATIONS = 10000\n",
    "K = 1000\n",
    "POPULATION_SIZE = 80\n",
    "OFFSPRING_SIZE = 12\n",
    "MUTATION_PROBABILITY = 0.15\n",
    "\n",
    "MIGRATION_RATE = 100\n",
    "N_SUB_POPULATIONS = 4"
   ]
  },
  {
   "cell_type": "markdown",
   "metadata": {},
   "source": [
    "Example of Island Model *without* self-adapting mutation probability"
   ]
  },
  {
   "cell_type": "code",
   "execution_count": 23,
   "metadata": {},
   "outputs": [
    {
     "data": {
      "text/plain": [
       "(0.98, 100080)"
      ]
     },
     "execution_count": 23,
     "metadata": {},
     "output_type": "execute_result"
    }
   ],
   "source": [
    "fitness = lab9_lib.make_problem(1)\n",
    "population = initialize_population(K, POPULATION_SIZE, fitness)\n",
    "\n",
    "best_fitness, fitness_calls = island_model(population, NUM_GENERATIONS, MUTATION_PROBABILITY, OFFSPRING_SIZE,\n",
    "                                                single_gene_mutate, one_cut_xover, fitness,\n",
    "                                                tournament_selection, steady_state, terminate,\n",
    "                                                N_SUB_POPULATIONS, random_migrate, MIGRATION_RATE,\n",
    "                                                verbose=False, self_adaptive_prob=False)\n",
    "\n",
    "best_fitness, fitness_calls"
   ]
  },
  {
   "cell_type": "markdown",
   "metadata": {},
   "source": [
    "Example of Island Model *with* self-adapting mutation probability"
   ]
  },
  {
   "cell_type": "code",
   "execution_count": 24,
   "metadata": {},
   "outputs": [
    {
     "data": {
      "text/plain": [
       "(0.965, 141456)"
      ]
     },
     "execution_count": 24,
     "metadata": {},
     "output_type": "execute_result"
    }
   ],
   "source": [
    "fitness = lab9_lib.make_problem(1)\n",
    "population = initialize_population(K, POPULATION_SIZE, fitness)\n",
    "\n",
    "best_fitness, fitness_calls = island_model(population, NUM_GENERATIONS, MUTATION_PROBABILITY, OFFSPRING_SIZE,\n",
    "                                                single_gene_mutate, one_cut_xover, fitness,\n",
    "                                                tournament_selection, steady_state, terminate,\n",
    "                                                N_SUB_POPULATIONS, random_migrate, MIGRATION_RATE,\n",
    "                                                verbose=False, self_adaptive_prob=True)\n",
    "\n",
    "best_fitness, fitness_calls"
   ]
  },
  {
   "cell_type": "markdown",
   "metadata": {},
   "source": [
    "Test all xover / mutation methods implemented and store the result in a Pandas dataframe"
   ]
  },
  {
   "cell_type": "code",
   "execution_count": 25,
   "metadata": {},
   "outputs": [],
   "source": [
    "columns = ['fitness function', 'xover', 'mutate', 'migrate', 'self adapting probability', 'best fitness value', 'fitness calls']\n",
    "df2 = pd.DataFrame(columns=columns)"
   ]
  },
  {
   "cell_type": "code",
   "execution_count": 26,
   "metadata": {},
   "outputs": [],
   "source": [
    "counter = 0\n",
    "fitness_numbers = [1, 2, 5, 10]\n",
    "self_adaptive_options = [False, True]\n",
    "\n",
    "for fitness_number in fitness_numbers:\n",
    "    fitness = lab9_lib.make_problem(fitness_number)\n",
    "    # use the same initial population for each combination of xover and mutation\n",
    "    population = initialize_population(K, POPULATION_SIZE, fitness)\n",
    "    for xover in xovers:\n",
    "        for mutate in mutates:\n",
    "                for migrate in migrates:\n",
    "                    for self_adaptive_prob in self_adaptive_options:\n",
    "\n",
    "                        best_fitness, fitness_calls = island_model(\n",
    "                                                                population, \n",
    "                                                                NUM_GENERATIONS, MUTATION_PROBABILITY, OFFSPRING_SIZE,\n",
    "                                                                mutate, xover, fitness,\n",
    "                                                                tournament_selection, steady_state, terminate,\n",
    "                                                                N_SUB_POPULATIONS, random_migrate, MIGRATION_RATE,\n",
    "                                                                verbose=False, self_adaptive_prob=self_adaptive_prob\n",
    "                                                                )\n",
    "                        \n",
    "                        # store the result in the dataframe\n",
    "                        df2.loc[counter] = [\n",
    "                            fitness_number,\n",
    "                            xover.__name__,\n",
    "                            mutate.__name__,\n",
    "                            migrate.__name__,\n",
    "                            self_adaptive_prob,\n",
    "                            str(round(best_fitness*100, 2))+\"%\",\n",
    "                            fitness_calls\n",
    "                            ]\n",
    "                        counter += 1"
   ]
  },
  {
   "cell_type": "markdown",
   "metadata": {},
   "source": [
    "Print the result"
   ]
  },
  {
   "cell_type": "code",
   "execution_count": 28,
   "metadata": {},
   "outputs": [
    {
     "name": "stdout",
     "output_type": "stream",
     "text": [
      "+-----+--------------------+---------------+--------------------------+----------------+-----------------------------+----------------------+-----------------+\n",
      "|     |   fitness function | xover         | mutate                   | migrate        | self adapting probability   | best fitness value   |   fitness calls |\n",
      "|-----+--------------------+---------------+--------------------------+----------------+-----------------------------+----------------------+-----------------|\n",
      "|   0 |                  1 | one_cut_xover | single_gene_mutate       | random_migrate | False                       | 95.8%                |           82992 |\n",
      "|   1 |                  1 | one_cut_xover | single_gene_mutate       | random_migrate | True                        | 96.7%                |          134736 |\n",
      "|   2 |                  1 | one_cut_xover | variable_strength_mutate | random_migrate | False                       | 93.1%                |           84720 |\n",
      "|   3 |                  1 | one_cut_xover | variable_strength_mutate | random_migrate | True                        | 87.6%                |           90000 |\n",
      "|   4 |                  1 | one_cut_xover | swap_mutate              | random_migrate | False                       | 100.0%               |          110544 |\n",
      "|   5 |                  1 | one_cut_xover | swap_mutate              | random_migrate | True                        | 96.7%                |          157680 |\n",
      "|   6 |                  1 | one_cut_xover | inversion_mutate         | random_migrate | False                       | 63.6%                |           27936 |\n",
      "|   7 |                  1 | one_cut_xover | inversion_mutate         | random_migrate | True                        | 60.0%                |           15072 |\n",
      "|   8 |                  1 | n_cuts_xover  | single_gene_mutate       | random_migrate | False                       | 96.8%                |           87696 |\n",
      "|   9 |                  1 | n_cuts_xover  | single_gene_mutate       | random_migrate | True                        | 97.2%                |          125568 |\n",
      "|  10 |                  1 | n_cuts_xover  | variable_strength_mutate | random_migrate | False                       | 96.3%                |          102240 |\n",
      "|  11 |                  1 | n_cuts_xover  | variable_strength_mutate | random_migrate | True                        | 95.7%                |          141168 |\n",
      "|  12 |                  1 | n_cuts_xover  | swap_mutate              | random_migrate | False                       | 100.0%               |           91584 |\n",
      "|  13 |                  1 | n_cuts_xover  | swap_mutate              | random_migrate | True                        | 98.6%                |          130896 |\n",
      "|  14 |                  1 | n_cuts_xover  | inversion_mutate         | random_migrate | False                       | 62.2%                |           12048 |\n",
      "|  15 |                  1 | n_cuts_xover  | inversion_mutate         | random_migrate | True                        | 59.9%                |           14160 |\n",
      "|  16 |                  1 | uniform_xover | single_gene_mutate       | random_migrate | False                       | 95.4%                |          104448 |\n",
      "|  17 |                  1 | uniform_xover | single_gene_mutate       | random_migrate | True                        | 88.3%                |          106032 |\n",
      "|  18 |                  1 | uniform_xover | variable_strength_mutate | random_migrate | False                       | 92.1%                |          120864 |\n",
      "|  19 |                  1 | uniform_xover | variable_strength_mutate | random_migrate | True                        | 85.2%                |          149376 |\n",
      "|  20 |                  1 | uniform_xover | swap_mutate              | random_migrate | False                       | 99.8%                |          148992 |\n",
      "|  21 |                  1 | uniform_xover | swap_mutate              | random_migrate | True                        | 86.5%                |          179184 |\n",
      "|  22 |                  1 | uniform_xover | inversion_mutate         | random_migrate | False                       | 59.5%                |           11376 |\n",
      "|  23 |                  1 | uniform_xover | inversion_mutate         | random_migrate | True                        | 59.9%                |           16704 |\n",
      "|  24 |                  1 | my_xover      | single_gene_mutate       | random_migrate | False                       | 90.8%                |           77904 |\n",
      "|  25 |                  1 | my_xover      | single_gene_mutate       | random_migrate | True                        | 87.6%                |          103296 |\n",
      "|  26 |                  1 | my_xover      | variable_strength_mutate | random_migrate | False                       | 92.1%                |          122496 |\n",
      "|  27 |                  1 | my_xover      | variable_strength_mutate | random_migrate | True                        | 82.9%                |          138912 |\n",
      "|  28 |                  1 | my_xover      | swap_mutate              | random_migrate | False                       | 99.7%                |          167760 |\n",
      "|  29 |                  1 | my_xover      | swap_mutate              | random_migrate | True                        | 84.3%                |          149712 |\n",
      "|  30 |                  1 | my_xover      | inversion_mutate         | random_migrate | False                       | 57.7%                |           10320 |\n",
      "|  31 |                  1 | my_xover      | inversion_mutate         | random_migrate | True                        | 57.8%                |            7200 |\n",
      "|  32 |                  2 | one_cut_xover | single_gene_mutate       | random_migrate | False                       | 80.8%                |          117360 |\n",
      "|  33 |                  2 | one_cut_xover | single_gene_mutate       | random_migrate | True                        | 70.6%                |           97104 |\n",
      "|  34 |                  2 | one_cut_xover | variable_strength_mutate | random_migrate | False                       | 54.4%                |            4992 |\n",
      "|  35 |                  2 | one_cut_xover | variable_strength_mutate | random_migrate | True                        | 70.4%                |          126528 |\n",
      "|  36 |                  2 | one_cut_xover | swap_mutate              | random_migrate | False                       | 98.0%                |          235968 |\n",
      "|  37 |                  2 | one_cut_xover | swap_mutate              | random_migrate | True                        | 72.4%                |          113136 |\n",
      "|  38 |                  2 | one_cut_xover | inversion_mutate         | random_migrate | False                       | 54.2%                |            5568 |\n",
      "|  39 |                  2 | one_cut_xover | inversion_mutate         | random_migrate | True                        | 56.0%                |           12048 |\n",
      "|  40 |                  2 | n_cuts_xover  | single_gene_mutate       | random_migrate | False                       | 80.4%                |          104160 |\n",
      "|  41 |                  2 | n_cuts_xover  | single_gene_mutate       | random_migrate | True                        | 72.6%                |          112752 |\n",
      "|  42 |                  2 | n_cuts_xover  | variable_strength_mutate | random_migrate | False                       | 79.4%                |          122496 |\n",
      "|  43 |                  2 | n_cuts_xover  | variable_strength_mutate | random_migrate | True                        | 73.6%                |          111072 |\n",
      "|  44 |                  2 | n_cuts_xover  | swap_mutate              | random_migrate | False                       | 97.8%                |          211440 |\n",
      "|  45 |                  2 | n_cuts_xover  | swap_mutate              | random_migrate | True                        | 72.6%                |          112224 |\n",
      "|  46 |                  2 | n_cuts_xover  | inversion_mutate         | random_migrate | False                       | 54.8%                |           11280 |\n",
      "|  47 |                  2 | n_cuts_xover  | inversion_mutate         | random_migrate | True                        | 55.2%                |            8832 |\n",
      "|  48 |                  2 | uniform_xover | single_gene_mutate       | random_migrate | False                       | 79.8%                |          150768 |\n",
      "|  49 |                  2 | uniform_xover | single_gene_mutate       | random_migrate | True                        | 67.6%                |          102624 |\n",
      "|  50 |                  2 | uniform_xover | variable_strength_mutate | random_migrate | False                       | 74.2%                |          132336 |\n",
      "|  51 |                  2 | uniform_xover | variable_strength_mutate | random_migrate | True                        | 64.8%                |           87648 |\n",
      "|  52 |                  2 | uniform_xover | swap_mutate              | random_migrate | False                       | 98.0%                |          280080 |\n",
      "|  53 |                  2 | uniform_xover | swap_mutate              | random_migrate | True                        | 63.0%                |          113328 |\n",
      "|  54 |                  2 | uniform_xover | inversion_mutate         | random_migrate | False                       | 53.2%                |            5568 |\n",
      "|  55 |                  2 | uniform_xover | inversion_mutate         | random_migrate | True                        | 54.2%                |           11040 |\n",
      "|  56 |                  2 | my_xover      | single_gene_mutate       | random_migrate | False                       | 80.8%                |          129504 |\n",
      "|  57 |                  2 | my_xover      | single_gene_mutate       | random_migrate | True                        | 69.0%                |          115104 |\n",
      "|  58 |                  2 | my_xover      | variable_strength_mutate | random_migrate | False                       | 73.4%                |          109104 |\n",
      "|  59 |                  2 | my_xover      | variable_strength_mutate | random_migrate | True                        | 64.0%                |           67584 |\n",
      "|  60 |                  2 | my_xover      | swap_mutate              | random_migrate | False                       | 98.2%                |          286560 |\n",
      "|  61 |                  2 | my_xover      | swap_mutate              | random_migrate | True                        | 65.8%                |          132576 |\n",
      "|  62 |                  2 | my_xover      | inversion_mutate         | random_migrate | False                       | 55.6%                |           17040 |\n",
      "|  63 |                  2 | my_xover      | inversion_mutate         | random_migrate | True                        | 54.6%                |            9600 |\n",
      "|  64 |                  5 | one_cut_xover | single_gene_mutate       | random_migrate | False                       | 34.99%               |           57792 |\n",
      "|  65 |                  5 | one_cut_xover | single_gene_mutate       | random_migrate | True                        | 33.35%               |          124128 |\n",
      "|  66 |                  5 | one_cut_xover | variable_strength_mutate | random_migrate | False                       | 36.62%               |          236304 |\n",
      "|  67 |                  5 | one_cut_xover | variable_strength_mutate | random_migrate | True                        | 34.16%               |          134544 |\n",
      "|  68 |                  5 | one_cut_xover | swap_mutate              | random_migrate | False                       | 33.64%               |           99408 |\n",
      "|  69 |                  5 | one_cut_xover | swap_mutate              | random_migrate | True                        | 30.96%               |          134544 |\n",
      "|  70 |                  5 | one_cut_xover | inversion_mutate         | random_migrate | False                       | 39.42%               |           24144 |\n",
      "|  71 |                  5 | one_cut_xover | inversion_mutate         | random_migrate | True                        | 41.76%               |           14544 |\n",
      "|  72 |                  5 | n_cuts_xover  | single_gene_mutate       | random_migrate | False                       | 44.6%                |          200592 |\n",
      "|  73 |                  5 | n_cuts_xover  | single_gene_mutate       | random_migrate | True                        | 33.94%               |          101280 |\n",
      "|  74 |                  5 | n_cuts_xover  | variable_strength_mutate | random_migrate | False                       | 43.59%               |          172848 |\n",
      "|  75 |                  5 | n_cuts_xover  | variable_strength_mutate | random_migrate | True                        | 41.42%               |           51312 |\n",
      "|  76 |                  5 | n_cuts_xover  | swap_mutate              | random_migrate | False                       | 35.53%               |          115824 |\n",
      "|  77 |                  5 | n_cuts_xover  | swap_mutate              | random_migrate | True                        | 26.57%               |          168240 |\n",
      "|  78 |                  5 | n_cuts_xover  | inversion_mutate         | random_migrate | False                       | 50.5%                |           12672 |\n",
      "|  79 |                  5 | n_cuts_xover  | inversion_mutate         | random_migrate | True                        | 32.83%               |            8256 |\n",
      "|  80 |                  5 | uniform_xover | single_gene_mutate       | random_migrate | False                       | 41.51%               |          163248 |\n",
      "|  81 |                  5 | uniform_xover | single_gene_mutate       | random_migrate | True                        | 39.89%               |            7200 |\n",
      "|  82 |                  5 | uniform_xover | variable_strength_mutate | random_migrate | False                       | 38.95%               |          139344 |\n",
      "|  83 |                  5 | uniform_xover | variable_strength_mutate | random_migrate | True                        | 34.77%               |          110688 |\n",
      "|  84 |                  5 | uniform_xover | swap_mutate              | random_migrate | False                       | 27.77%               |          144864 |\n",
      "|  85 |                  5 | uniform_xover | swap_mutate              | random_migrate | True                        | 24.66%               |          134832 |\n",
      "|  86 |                  5 | uniform_xover | inversion_mutate         | random_migrate | False                       | 40.64%               |           19200 |\n",
      "|  87 |                  5 | uniform_xover | inversion_mutate         | random_migrate | True                        | 39.8%                |            6720 |\n",
      "|  88 |                  5 | my_xover      | single_gene_mutate       | random_migrate | False                       | 32.36%               |           47616 |\n",
      "|  89 |                  5 | my_xover      | single_gene_mutate       | random_migrate | True                        | 34.45%               |          122928 |\n",
      "|  90 |                  5 | my_xover      | variable_strength_mutate | random_migrate | False                       | 39.23%               |           16176 |\n",
      "|  91 |                  5 | my_xover      | variable_strength_mutate | random_migrate | True                        | 34.82%               |           93984 |\n",
      "|  92 |                  5 | my_xover      | swap_mutate              | random_migrate | False                       | 32.39%               |           94848 |\n",
      "|  93 |                  5 | my_xover      | swap_mutate              | random_migrate | True                        | 41.97%               |           21408 |\n",
      "|  94 |                  5 | my_xover      | inversion_mutate         | random_migrate | False                       | 51.0%                |            8832 |\n",
      "|  95 |                  5 | my_xover      | inversion_mutate         | random_migrate | True                        | 40.21%               |            5952 |\n",
      "|  96 |                 10 | one_cut_xover | single_gene_mutate       | random_migrate | False                       | 31.07%               |           63744 |\n",
      "|  97 |                 10 | one_cut_xover | single_gene_mutate       | random_migrate | True                        | 30.52%               |          142800 |\n",
      "|  98 |                 10 | one_cut_xover | variable_strength_mutate | random_migrate | False                       | 24.3%                |          146784 |\n",
      "|  99 |                 10 | one_cut_xover | variable_strength_mutate | random_migrate | True                        | 22.59%               |          100944 |\n",
      "| 100 |                 10 | one_cut_xover | swap_mutate              | random_migrate | False                       | 26.94%               |          114000 |\n",
      "| 101 |                 10 | one_cut_xover | swap_mutate              | random_migrate | True                        | 16.98%               |          137568 |\n",
      "| 102 |                 10 | one_cut_xover | inversion_mutate         | random_migrate | False                       | 22.96%               |           11040 |\n",
      "| 103 |                 10 | one_cut_xover | inversion_mutate         | random_migrate | True                        | 27.4%                |           10272 |\n",
      "| 104 |                 10 | n_cuts_xover  | single_gene_mutate       | random_migrate | False                       | 23.92%               |          139920 |\n",
      "| 105 |                 10 | n_cuts_xover  | single_gene_mutate       | random_migrate | True                        | 21.4%                |            5328 |\n",
      "| 106 |                 10 | n_cuts_xover  | variable_strength_mutate | random_migrate | False                       | 27.89%               |           97968 |\n",
      "| 107 |                 10 | n_cuts_xover  | variable_strength_mutate | random_migrate | True                        | 18.15%               |          144432 |\n",
      "| 108 |                 10 | n_cuts_xover  | swap_mutate              | random_migrate | False                       | 17.96%               |          115056 |\n",
      "| 109 |                 10 | n_cuts_xover  | swap_mutate              | random_migrate | True                        | 17.9%                |          163920 |\n",
      "| 110 |                 10 | n_cuts_xover  | inversion_mutate         | random_migrate | False                       | 26.42%               |           10800 |\n",
      "| 111 |                 10 | n_cuts_xover  | inversion_mutate         | random_migrate | True                        | 25.97%               |            7392 |\n",
      "| 112 |                 10 | uniform_xover | single_gene_mutate       | random_migrate | False                       | 20.02%               |          132672 |\n",
      "| 113 |                 10 | uniform_xover | single_gene_mutate       | random_migrate | True                        | 17.85%               |          127488 |\n",
      "| 114 |                 10 | uniform_xover | variable_strength_mutate | random_migrate | False                       | 24.66%               |          142176 |\n",
      "| 115 |                 10 | uniform_xover | variable_strength_mutate | random_migrate | True                        | 15.32%               |            4896 |\n",
      "| 116 |                 10 | uniform_xover | swap_mutate              | random_migrate | False                       | 22.72%               |          134256 |\n",
      "| 117 |                 10 | uniform_xover | swap_mutate              | random_migrate | True                        | 16.53%               |          163344 |\n",
      "| 118 |                 10 | uniform_xover | inversion_mutate         | random_migrate | False                       | 22.19%               |            9696 |\n",
      "| 119 |                 10 | uniform_xover | inversion_mutate         | random_migrate | True                        | 30.65%               |           10800 |\n",
      "| 120 |                 10 | my_xover      | single_gene_mutate       | random_migrate | False                       | 20.3%                |          139824 |\n",
      "| 121 |                 10 | my_xover      | single_gene_mutate       | random_migrate | True                        | 27.32%               |          102432 |\n",
      "| 122 |                 10 | my_xover      | variable_strength_mutate | random_migrate | False                       | 24.58%               |          127968 |\n",
      "| 123 |                 10 | my_xover      | variable_strength_mutate | random_migrate | True                        | 26.9%                |            5232 |\n",
      "| 124 |                 10 | my_xover      | swap_mutate              | random_migrate | False                       | 27.34%               |          125952 |\n",
      "| 125 |                 10 | my_xover      | swap_mutate              | random_migrate | True                        | 22.56%               |          134544 |\n",
      "| 126 |                 10 | my_xover      | inversion_mutate         | random_migrate | False                       | 21.4%                |            5280 |\n",
      "| 127 |                 10 | my_xover      | inversion_mutate         | random_migrate | True                        | 22.61%               |            6864 |\n",
      "+-----+--------------------+---------------+--------------------------+----------------+-----------------------------+----------------------+-----------------+\n"
     ]
    }
   ],
   "source": [
    "from tabulate import tabulate\n",
    "\n",
    "print(tabulate(df2, headers = 'keys', tablefmt = 'psql'))"
   ]
  }
 ],
 "metadata": {
  "kernelspec": {
   "display_name": "ci-fLJ3OwGs-py3.12",
   "language": "python",
   "name": "python3"
  },
  "language_info": {
   "codemirror_mode": {
    "name": "ipython",
    "version": 3
   },
   "file_extension": ".py",
   "mimetype": "text/x-python",
   "name": "python",
   "nbconvert_exporter": "python",
   "pygments_lexer": "ipython3",
   "version": "3.10.11"
  }
 },
 "nbformat": 4,
 "nbformat_minor": 2
}
