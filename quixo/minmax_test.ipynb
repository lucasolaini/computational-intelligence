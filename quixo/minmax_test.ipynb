{
 "cells": [
  {
   "cell_type": "markdown",
   "metadata": {},
   "source": [
    "Import required libraries"
   ]
  },
  {
   "cell_type": "code",
   "execution_count": 1,
   "metadata": {},
   "outputs": [],
   "source": [
    "from main import MinmaxPlayer, RandomPlayer\n",
    "from game import Game"
   ]
  },
  {
   "cell_type": "markdown",
   "metadata": {},
   "source": [
    "Testing MinMax when playing first."
   ]
  },
  {
   "cell_type": "markdown",
   "metadata": {},
   "source": [
    "- with max_depth = 0 (only looks for its best move)."
   ]
  },
  {
   "cell_type": "code",
   "execution_count": 2,
   "metadata": {},
   "outputs": [
    {
     "name": "stdout",
     "output_type": "stream",
     "text": [
      "Win rate: 100.0%, Losses: 0.0%\n"
     ]
    }
   ],
   "source": [
    "player1 = MinmaxPlayer(max_depth=0, player_idx=0, strategy='max')\n",
    "player2 = RandomPlayer()\n",
    "\n",
    "wins = 0\n",
    "N_GAMES = 100\n",
    "\n",
    "for i in range(N_GAMES):\n",
    "    game = Game()\n",
    "    winner = game.play(player1, player2)\n",
    "    if winner == 0:\n",
    "        wins += 1\n",
    "\n",
    "print(f\"Win rate: {wins/N_GAMES * 100}%, Losses: {(N_GAMES-wins)/N_GAMES * 100}%\")"
   ]
  },
  {
   "cell_type": "markdown",
   "metadata": {},
   "source": [
    "- with max_depth = 1."
   ]
  },
  {
   "cell_type": "code",
   "execution_count": 3,
   "metadata": {},
   "outputs": [],
   "source": [
    "player1 = MinmaxPlayer(max_depth=1, player_idx=0, strategy='max')\n",
    "player2 = RandomPlayer()\n",
    "\n",
    "wins = 0\n",
    "N_GAMES = 50\n",
    "\n",
    "for i in range(N_GAMES):\n",
    "    game = Game()\n",
    "    winner = game.play(player1, player2)\n",
    "    if winner == 0:\n",
    "        wins += 1\n",
    "\n",
    "print(f\"Win rate: {wins/N_GAMES * 100}%, Losses: {(N_GAMES-wins)/N_GAMES * 100}%\")"
   ]
  },
  {
   "cell_type": "markdown",
   "metadata": {},
   "source": [
    "- with max_depth = 2."
   ]
  },
  {
   "cell_type": "code",
   "execution_count": null,
   "metadata": {},
   "outputs": [
    {
     "name": "stdout",
     "output_type": "stream",
     "text": [
      "Win rate: 90.0%, Losses: 10.0%\n"
     ]
    }
   ],
   "source": [
    "player1 = MinmaxPlayer(max_depth=2, player_idx=0, strategy='max')\n",
    "player2 = RandomPlayer()\n",
    "\n",
    "wins = 0\n",
    "N_GAMES = 10\n",
    "\n",
    "for i in range(N_GAMES):\n",
    "    game = Game()\n",
    "    winner = game.play(player1, player2)\n",
    "    if winner == 0:\n",
    "        wins += 1\n",
    "\n",
    "print(f\"Win rate: {wins/N_GAMES * 100}%, Losses: {(N_GAMES-wins)/N_GAMES * 100}%\")"
   ]
  },
  {
   "cell_type": "markdown",
   "metadata": {},
   "source": [
    "Testing MinMax when playing second."
   ]
  },
  {
   "cell_type": "markdown",
   "metadata": {},
   "source": [
    "- with max depth = 0."
   ]
  },
  {
   "cell_type": "code",
   "execution_count": null,
   "metadata": {},
   "outputs": [],
   "source": [
    "player1 = RandomPlayer()\n",
    "player2 = MinmaxPlayer(max_depth=0, player_idx=1, strategy='max')\n",
    "\n",
    "wins = 0\n",
    "N_GAMES = 100\n",
    "\n",
    "for i in range(N_GAMES):\n",
    "    game = Game()\n",
    "    winner = game.play(player1, player2)\n",
    "    if winner == 1:\n",
    "        wins += 1"
   ]
  },
  {
   "cell_type": "markdown",
   "metadata": {},
   "source": [
    "- with max depth = 1."
   ]
  },
  {
   "cell_type": "code",
   "execution_count": null,
   "metadata": {},
   "outputs": [],
   "source": [
    "player1 = RandomPlayer()\n",
    "player2 = MinmaxPlayer(max_depth=1, player_idx=1, strategy='max')\n",
    "\n",
    "wins = 0\n",
    "N_GAMES = 50\n",
    "\n",
    "for i in range(N_GAMES):\n",
    "    game = Game()\n",
    "    winner = game.play(player1, player2)\n",
    "    if winner == 1:\n",
    "        wins += 1"
   ]
  },
  {
   "cell_type": "markdown",
   "metadata": {},
   "source": [
    "- with max depth = 2."
   ]
  },
  {
   "cell_type": "code",
   "execution_count": null,
   "metadata": {},
   "outputs": [],
   "source": [
    "player1 = RandomPlayer()\n",
    "player2 = MinmaxPlayer(max_depth=2, player_idx=1, strategy='max')\n",
    "\n",
    "wins = 0\n",
    "N_GAMES = 10\n",
    "\n",
    "for i in range(N_GAMES):\n",
    "    game = Game()\n",
    "    winner = game.play(player1, player2)\n",
    "    if winner == 1:\n",
    "        wins += 1"
   ]
  }
 ],
 "metadata": {
  "kernelspec": {
   "display_name": "venv",
   "language": "python",
   "name": "python3"
  },
  "language_info": {
   "codemirror_mode": {
    "name": "ipython",
    "version": 3
   },
   "file_extension": ".py",
   "mimetype": "text/x-python",
   "name": "python",
   "nbconvert_exporter": "python",
   "pygments_lexer": "ipython3",
   "version": "3.10.11"
  }
 },
 "nbformat": 4,
 "nbformat_minor": 2
}
