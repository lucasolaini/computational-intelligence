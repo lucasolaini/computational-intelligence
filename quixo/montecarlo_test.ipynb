{
 "cells": [
  {
   "cell_type": "markdown",
   "metadata": {},
   "source": [
    "Import required libraries"
   ]
  },
  {
   "cell_type": "code",
   "execution_count": 1,
   "metadata": {},
   "outputs": [],
   "source": [
    "from main import MontecarloPlayer, RandomPlayer\n",
    "from game import Game\n",
    "import pickle"
   ]
  },
  {
   "cell_type": "markdown",
   "metadata": {},
   "source": [
    "Load the Q-table"
   ]
  },
  {
   "cell_type": "code",
   "execution_count": 2,
   "metadata": {},
   "outputs": [
    {
     "name": "stdout",
     "output_type": "stream",
     "text": [
      "Loading Q-table...\n",
      "Loading completed\n"
     ]
    }
   ],
   "source": [
    "filename = 'montecarlo_200.pkl'\n",
    "\n",
    "print(\"Loading Q-table...\")\n",
    "with open(filename, 'rb') as f:\n",
    "    Q = pickle.load(f)\n",
    "print(\"Loading completed\")"
   ]
  },
  {
   "cell_type": "code",
   "execution_count": 3,
   "metadata": {},
   "outputs": [
    {
     "name": "stdout",
     "output_type": "stream",
     "text": [
      "Q-table size:  25430782\n"
     ]
    }
   ],
   "source": [
    "print(\"Q-table size: \", len(Q))"
   ]
  },
  {
   "cell_type": "markdown",
   "metadata": {},
   "source": [
    "Test the MonteCarlo player when playing first"
   ]
  },
  {
   "cell_type": "code",
   "execution_count": 4,
   "metadata": {},
   "outputs": [],
   "source": [
    "player1 = MontecarloPlayer(0, 0, Q)\n",
    "player2 = RandomPlayer()"
   ]
  },
  {
   "cell_type": "code",
   "execution_count": 5,
   "metadata": {},
   "outputs": [
    {
     "name": "stdout",
     "output_type": "stream",
     "text": [
      "Win rate: 73.1%, Losses: 26.900000000000002%\n"
     ]
    }
   ],
   "source": [
    "N_GAMES = 1_000\n",
    "wins = 0\n",
    "\n",
    "for i in range(N_GAMES):\n",
    "    g = Game()\n",
    "    winner = g.play(player1, player2)\n",
    "    if winner == 0:\n",
    "        wins += 1\n",
    "\n",
    "print(f\"Win rate: {wins/N_GAMES * 100}%, Losses: {(N_GAMES-wins)/N_GAMES * 100}%\")"
   ]
  },
  {
   "cell_type": "markdown",
   "metadata": {},
   "source": [
    "Test the MonteCarlo player when playing second"
   ]
  },
  {
   "cell_type": "code",
   "execution_count": 6,
   "metadata": {},
   "outputs": [],
   "source": [
    "player1 = RandomPlayer()\n",
    "player2 = MontecarloPlayer(0, 0, Q)"
   ]
  },
  {
   "cell_type": "code",
   "execution_count": 7,
   "metadata": {},
   "outputs": [
    {
     "name": "stdout",
     "output_type": "stream",
     "text": [
      "Win rate: 64.4%, Losses: 35.6%\n"
     ]
    }
   ],
   "source": [
    "N_GAMES = 1_000\n",
    "wins = 0\n",
    "\n",
    "for i in range(N_GAMES):\n",
    "    g = Game()\n",
    "    winner = g.play(player1, player2)\n",
    "    if winner == 1:\n",
    "        wins += 1\n",
    "\n",
    "print(f\"Win rate: {wins/N_GAMES * 100}%, Losses: {(N_GAMES-wins)/N_GAMES * 100}%\")"
   ]
  }
 ],
 "metadata": {
  "kernelspec": {
   "display_name": "venv",
   "language": "python",
   "name": "python3"
  },
  "language_info": {
   "codemirror_mode": {
    "name": "ipython",
    "version": 3
   },
   "file_extension": ".py",
   "mimetype": "text/x-python",
   "name": "python",
   "nbconvert_exporter": "python",
   "pygments_lexer": "ipython3",
   "version": "3.10.11"
  }
 },
 "nbformat": 4,
 "nbformat_minor": 2
}
