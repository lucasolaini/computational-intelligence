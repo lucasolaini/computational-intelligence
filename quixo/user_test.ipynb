{
 "cells": [
  {
   "cell_type": "markdown",
   "metadata": {},
   "source": [
    "Import required libraries."
   ]
  },
  {
   "cell_type": "code",
   "execution_count": 1,
   "metadata": {},
   "outputs": [],
   "source": [
    "from main import MyPlayer, MontecarloPlayer, MinmaxPlayer\n",
    "from game import Game\n",
    "from pickle import load"
   ]
  },
  {
   "cell_type": "markdown",
   "metadata": {},
   "source": [
    "Note: load only if you want to play against MonteCarlo player"
   ]
  },
  {
   "cell_type": "code",
   "execution_count": null,
   "metadata": {},
   "outputs": [],
   "source": [
    "filename = 'montecarlo_200.pkl'"
   ]
  },
  {
   "cell_type": "code",
   "execution_count": null,
   "metadata": {},
   "outputs": [],
   "source": [
    "print(\"Loading Q-table...\")\n",
    "with open(filename, 'rb') as f:\n",
    "    Q = load(f)\n",
    "print(\"Loading completed\")"
   ]
  },
  {
   "cell_type": "markdown",
   "metadata": {},
   "source": [
    "If you want to play against MinMax as first play here!"
   ]
  },
  {
   "cell_type": "code",
   "execution_count": 4,
   "metadata": {},
   "outputs": [
    {
     "name": "stdout",
     "output_type": "stream",
     "text": [
      "YOUR TURN\n",
      "⬜ ⬜ ⬜ ⬜ ⬜ \n",
      "⬜ ⬜ ⬜ ⬜ ⬜ \n",
      "⬜ ⬜ ⬜ ⬜ ⬜ \n",
      "⬜ ⬜ ⬜ ⬜ ⬜ \n",
      "⬜ ⬜ ⬜ ⬜ ⬜ \n",
      "MINMAX TURN\n",
      "⬜ ⬜ ⬜ ⬜ ⬜ \n",
      "⬜ ⬜ ⬜ ⬜ ⬜ \n",
      "⬜ ⬜ ⬜ ⬜ ⬜ \n",
      "⬜ ⬜ ⬜ ⬜ ⬜ \n",
      "🔵 ⬜ ⬜ ⬜ ⬜ \n",
      "YOUR TURN\n",
      "⬜ ⬜ ⬜ ⬜ ⬜ \n",
      "⬜ ⬜ ⬜ ⬜ ⬜ \n",
      "⬜ ⬜ ⬜ ⬜ ⬜ \n",
      "⬜ ⬜ ⬜ ⬜ ⬜ \n",
      "🔵 ⬜ ⬜ ⬜ 🔴 \n",
      "MINMAX TURN\n",
      "⬜ ⬜ ⬜ ⬜ ⬜ \n",
      "⬜ ⬜ ⬜ ⬜ ⬜ \n",
      "⬜ ⬜ ⬜ ⬜ ⬜ \n",
      "🔵 ⬜ ⬜ ⬜ ⬜ \n",
      "🔵 ⬜ ⬜ ⬜ 🔴 \n",
      "YOUR TURN\n",
      "⬜ ⬜ ⬜ ⬜ ⬜ \n",
      "⬜ ⬜ ⬜ ⬜ ⬜ \n",
      "⬜ ⬜ ⬜ ⬜ ⬜ \n",
      "🔵 ⬜ ⬜ ⬜ ⬜ \n",
      "🔴 🔵 ⬜ ⬜ 🔴 \n",
      "MINMAX TURN\n",
      "⬜ ⬜ ⬜ ⬜ ⬜ \n",
      "⬜ ⬜ ⬜ ⬜ ⬜ \n",
      "🔵 ⬜ ⬜ ⬜ ⬜ \n",
      "🔴 ⬜ ⬜ ⬜ ⬜ \n",
      "🔵 🔵 ⬜ ⬜ 🔴 \n",
      "YOUR TURN\n",
      "⬜ ⬜ ⬜ ⬜ ⬜ \n",
      "⬜ ⬜ ⬜ ⬜ ⬜ \n",
      "🔵 ⬜ ⬜ ⬜ ⬜ \n",
      "🔴 🔵 ⬜ ⬜ ⬜ \n",
      "🔵 🔴 ⬜ ⬜ 🔴 \n",
      "MINMAX TURN\n",
      "⬜ ⬜ ⬜ ⬜ ⬜ \n",
      "⬜ ⬜ ⬜ ⬜ ⬜ \n",
      "🔵 ⬜ ⬜ ⬜ ⬜ \n",
      "🔴 🔵 ⬜ ⬜ 🔴 \n",
      "🔵 🔴 ⬜ ⬜ 🔵 \n",
      "YOUR TURN\n",
      "⬜ ⬜ ⬜ ⬜ ⬜ \n",
      "⬜ ⬜ ⬜ ⬜ ⬜ \n",
      "🔵 ⬜ ⬜ ⬜ ⬜ \n",
      "🔴 🔵 ⬜ ⬜ 🔴 \n",
      "🔵 🔴 ⬜ 🔵 🔴 \n",
      "Invalid move. Retry.\n",
      "MINMAX TURN\n",
      "⬜ ⬜ ⬜ ⬜ ⬜ \n",
      "🔵 ⬜ ⬜ ⬜ ⬜ \n",
      "🔵 ⬜ ⬜ ⬜ ⬜ \n",
      "🔴 🔵 ⬜ ⬜ 🔴 \n",
      "🔵 🔴 ⬜ 🔵 🔴 \n",
      "YOUR TURN\n",
      "⬜ ⬜ ⬜ ⬜ ⬜ \n",
      "🔵 ⬜ ⬜ ⬜ ⬜ \n",
      "🔵 ⬜ ⬜ ⬜ 🔴 \n",
      "🔴 🔵 ⬜ ⬜ 🔴 \n",
      "🔵 🔴 ⬜ 🔵 🔴 \n",
      "MINMAX TURN\n",
      "🔵 ⬜ ⬜ ⬜ ⬜ \n",
      "🔵 ⬜ ⬜ ⬜ ⬜ \n",
      "🔴 ⬜ ⬜ ⬜ 🔴 \n",
      "🔵 🔵 ⬜ ⬜ 🔴 \n",
      "🔵 🔴 ⬜ 🔵 🔴 \n",
      "YOUR TURN\n",
      "🔵 ⬜ ⬜ ⬜ ⬜ \n",
      "🔵 ⬜ ⬜ ⬜ 🔴 \n",
      "🔴 ⬜ ⬜ ⬜ 🔴 \n",
      "🔵 🔵 ⬜ ⬜ 🔴 \n",
      "🔵 🔴 ⬜ 🔵 🔴 \n",
      "MINMAX TURN\n",
      "🔵 ⬜ ⬜ ⬜ ⬜ \n",
      "🔴 ⬜ ⬜ ⬜ 🔴 \n",
      "🔵 ⬜ ⬜ ⬜ 🔴 \n",
      "🔵 🔵 ⬜ ⬜ 🔴 \n",
      "🔵 🔴 ⬜ 🔵 🔴 \n",
      "And the winner is......\n",
      "MinMax!\n"
     ]
    }
   ],
   "source": [
    "player1 = MyPlayer()\n",
    "player2 = MinmaxPlayer(max_depth=1, player_idx=1, strategy='max', verbose=True)\n",
    "players = [player1, player2]\n",
    "\n",
    "game = Game()\n",
    "winner = game.play(player1, player2)\n",
    "\n",
    "print(f\"And the winner is......\")\n",
    "if winner == 0:\n",
    "    print(\"You!\")\n",
    "else:\n",
    "    print(\"MinMax!\")"
   ]
  },
  {
   "cell_type": "markdown",
   "metadata": {},
   "source": [
    "If you want to play against MinMax as second play here!"
   ]
  },
  {
   "cell_type": "code",
   "execution_count": 5,
   "metadata": {},
   "outputs": [
    {
     "name": "stdout",
     "output_type": "stream",
     "text": [
      "MINMAX TURN\n",
      "⬜ ⬜ ⬜ ⬜ ⬜ \n",
      "⬜ ⬜ ⬜ ⬜ ⬜ \n",
      "⬜ ⬜ ⬜ ⬜ ⬜ \n",
      "⬜ ⬜ ⬜ ⬜ ⬜ \n",
      "⬜ ⬜ ⬜ ⬜ ⬜ \n",
      "YOUR TURN\n",
      "⬜ ⬜ ⬜ ⬜ ⬜ \n",
      "⬜ ⬜ ⬜ ⬜ ⬜ \n",
      "⬜ ⬜ ⬜ ⬜ ⬜ \n",
      "⬜ ⬜ ⬜ ⬜ 🔵 \n",
      "⬜ ⬜ ⬜ ⬜ ⬜ \n",
      "MINMAX TURN\n",
      "⬜ ⬜ ⬜ ⬜ ⬜ \n",
      "⬜ ⬜ ⬜ ⬜ ⬜ \n",
      "⬜ ⬜ ⬜ ⬜ ⬜ \n",
      "⬜ ⬜ ⬜ ⬜ 🔵 \n",
      "🔴 ⬜ ⬜ ⬜ ⬜ \n",
      "YOUR TURN\n",
      "⬜ ⬜ ⬜ ⬜ ⬜ \n",
      "⬜ ⬜ ⬜ ⬜ ⬜ \n",
      "⬜ ⬜ ⬜ ⬜ ⬜ \n",
      "⬜ ⬜ ⬜ 🔵 🔵 \n",
      "🔴 ⬜ ⬜ ⬜ ⬜ \n",
      "Invalid move. Retry.\n",
      "MINMAX TURN\n",
      "⬜ ⬜ ⬜ ⬜ 🔴 \n",
      "⬜ ⬜ ⬜ ⬜ ⬜ \n",
      "⬜ ⬜ ⬜ ⬜ ⬜ \n",
      "⬜ ⬜ ⬜ 🔵 ⬜ \n",
      "🔴 ⬜ ⬜ ⬜ 🔵 \n",
      "YOUR TURN\n",
      "⬜ ⬜ ⬜ ⬜ 🔴 \n",
      "⬜ ⬜ ⬜ ⬜ ⬜ \n",
      "⬜ ⬜ ⬜ ⬜ ⬜ \n",
      "⬜ ⬜ ⬜ 🔵 🔵 \n",
      "🔴 ⬜ ⬜ ⬜ 🔵 \n",
      "YOUR TURN\n",
      "⬜ ⬜ ⬜ ⬜ 🔴 \n",
      "⬜ ⬜ ⬜ ⬜ ⬜ \n",
      "⬜ ⬜ ⬜ ⬜ ⬜ \n",
      "⬜ ⬜ ⬜ 🔵 🔵 \n",
      "🔴 ⬜ ⬜ ⬜ 🔵 \n",
      "MINMAX TURN\n",
      "⬜ ⬜ ⬜ ⬜ 🔴 \n",
      "⬜ ⬜ ⬜ ⬜ ⬜ \n",
      "⬜ ⬜ ⬜ 🔵 ⬜ \n",
      "⬜ ⬜ ⬜ ⬜ 🔵 \n",
      "🔴 ⬜ ⬜ 🔴 🔵 \n",
      "YOUR TURN\n",
      "⬜ ⬜ ⬜ ⬜ 🔴 \n",
      "⬜ ⬜ ⬜ ⬜ ⬜ \n",
      "⬜ ⬜ ⬜ 🔵 🔵 \n",
      "⬜ ⬜ ⬜ ⬜ 🔵 \n",
      "🔴 ⬜ ⬜ 🔴 🔵 \n",
      "MINMAX TURN\n",
      "⬜ ⬜ ⬜ ⬜ 🔴 \n",
      "⬜ ⬜ ⬜ 🔵 ⬜ \n",
      "⬜ ⬜ ⬜ ⬜ 🔵 \n",
      "⬜ ⬜ ⬜ 🔴 🔵 \n",
      "🔴 ⬜ ⬜ 🔴 🔵 \n",
      "YOUR TURN\n",
      "⬜ ⬜ ⬜ ⬜ 🔴 \n",
      "⬜ ⬜ ⬜ 🔵 🔵 \n",
      "⬜ ⬜ ⬜ ⬜ 🔵 \n",
      "⬜ ⬜ ⬜ 🔴 🔵 \n",
      "🔴 ⬜ ⬜ 🔴 🔵 \n",
      "MINMAX TURN\n",
      "⬜ ⬜ ⬜ 🔵 🔴 \n",
      "⬜ ⬜ ⬜ ⬜ 🔵 \n",
      "⬜ ⬜ ⬜ 🔴 🔵 \n",
      "⬜ ⬜ ⬜ 🔴 🔵 \n",
      "🔴 ⬜ ⬜ 🔴 🔵 \n",
      "YOUR TURN\n",
      "⬜ ⬜ ⬜ 🔵 🔴 \n",
      "⬜ ⬜ ⬜ ⬜ 🔵 \n",
      "⬜ ⬜ ⬜ 🔴 🔵 \n",
      "⬜ ⬜ 🔴 🔵 🔵 \n",
      "🔴 ⬜ ⬜ 🔴 🔵 \n",
      "MINMAX TURN\n",
      "⬜ ⬜ ⬜ 🔵 🔴 \n",
      "⬜ ⬜ ⬜ ⬜ 🔵 \n",
      "⬜ ⬜ ⬜ 🔴 🔵 \n",
      "🔴 ⬜ 🔴 🔵 🔵 \n",
      "🔴 ⬜ ⬜ 🔴 🔵 \n",
      "YOUR TURN\n",
      "⬜ ⬜ ⬜ 🔵 🔴 \n",
      "⬜ ⬜ ⬜ 🔵 🔵 \n",
      "⬜ ⬜ ⬜ 🔴 🔵 \n",
      "🔴 ⬜ 🔴 🔵 🔵 \n",
      "🔴 ⬜ ⬜ 🔴 🔵 \n"
     ]
    },
    {
     "ename": "ValueError",
     "evalue": "invalid literal for int() with base 10: ''",
     "output_type": "error",
     "traceback": [
      "\u001b[1;31m---------------------------------------------------------------------------\u001b[0m",
      "\u001b[1;31mValueError\u001b[0m                                Traceback (most recent call last)",
      "Cell \u001b[1;32mIn[5], line 6\u001b[0m\n\u001b[0;32m      3\u001b[0m players \u001b[38;5;241m=\u001b[39m [player1, player2]\n\u001b[0;32m      5\u001b[0m game \u001b[38;5;241m=\u001b[39m Game()\n\u001b[1;32m----> 6\u001b[0m winner \u001b[38;5;241m=\u001b[39m \u001b[43mgame\u001b[49m\u001b[38;5;241;43m.\u001b[39;49m\u001b[43mplay\u001b[49m\u001b[43m(\u001b[49m\u001b[43mplayer1\u001b[49m\u001b[43m,\u001b[49m\u001b[43m \u001b[49m\u001b[43mplayer2\u001b[49m\u001b[43m)\u001b[49m\n\u001b[0;32m      8\u001b[0m \u001b[38;5;28mprint\u001b[39m(\u001b[38;5;124mf\u001b[39m\u001b[38;5;124m\"\u001b[39m\u001b[38;5;124mAnd the winner is......\u001b[39m\u001b[38;5;124m\"\u001b[39m)\n\u001b[0;32m      9\u001b[0m \u001b[38;5;28;01mif\u001b[39;00m winner \u001b[38;5;241m==\u001b[39m \u001b[38;5;241m0\u001b[39m:\n",
      "File \u001b[1;32mc:\\Users\\lucas\\Universita\\computational_intelligence\\computational-intelligence\\quixo\\game.py:139\u001b[0m, in \u001b[0;36mGame.play\u001b[1;34m(self, player1, player2)\u001b[0m\n\u001b[0;32m    137\u001b[0m ok \u001b[38;5;241m=\u001b[39m \u001b[38;5;28;01mFalse\u001b[39;00m\n\u001b[0;32m    138\u001b[0m \u001b[38;5;28;01mwhile\u001b[39;00m \u001b[38;5;129;01mnot\u001b[39;00m ok:\n\u001b[1;32m--> 139\u001b[0m     from_pos, slide \u001b[38;5;241m=\u001b[39m \u001b[43mplayers\u001b[49m\u001b[43m[\u001b[49m\u001b[38;5;28;43mself\u001b[39;49m\u001b[38;5;241;43m.\u001b[39;49m\u001b[43mcurrent_player_idx\u001b[49m\u001b[43m]\u001b[49m\u001b[38;5;241;43m.\u001b[39;49m\u001b[43mmake_move\u001b[49m\u001b[43m(\u001b[49m\n\u001b[0;32m    140\u001b[0m \u001b[43m        \u001b[49m\u001b[38;5;28;43mself\u001b[39;49m\u001b[43m)\u001b[49m\n\u001b[0;32m    141\u001b[0m     ok \u001b[38;5;241m=\u001b[39m \u001b[38;5;28mself\u001b[39m\u001b[38;5;241m.\u001b[39m__move(from_pos, slide, \u001b[38;5;28mself\u001b[39m\u001b[38;5;241m.\u001b[39mcurrent_player_idx)\n\u001b[0;32m    142\u001b[0m winner \u001b[38;5;241m=\u001b[39m \u001b[38;5;28mself\u001b[39m\u001b[38;5;241m.\u001b[39mcheck_winner()\n",
      "File \u001b[1;32mc:\\Users\\lucas\\Universita\\computational_intelligence\\computational-intelligence\\quixo\\main.py:35\u001b[0m, in \u001b[0;36mMyPlayer.make_move\u001b[1;34m(self, game)\u001b[0m\n\u001b[0;32m     32\u001b[0m \u001b[38;5;28;01mwhile\u001b[39;00m \u001b[38;5;129;01mnot\u001b[39;00m valid:\n\u001b[0;32m     34\u001b[0m     input_from_pos \u001b[38;5;241m=\u001b[39m \u001b[38;5;28minput\u001b[39m(\u001b[38;5;124m\"\u001b[39m\u001b[38;5;124mInsert the position of your move (format: (row, column)): \u001b[39m\u001b[38;5;124m\"\u001b[39m)\n\u001b[1;32m---> 35\u001b[0m     row, column \u001b[38;5;241m=\u001b[39m \u001b[38;5;28mmap\u001b[39m(\u001b[38;5;28mint\u001b[39m, input_from_pos\u001b[38;5;241m.\u001b[39msplit(\u001b[38;5;124m'\u001b[39m\u001b[38;5;124m,\u001b[39m\u001b[38;5;124m'\u001b[39m))\n\u001b[0;32m     36\u001b[0m     from_pos \u001b[38;5;241m=\u001b[39m (column, row)\n\u001b[0;32m     38\u001b[0m     input_move \u001b[38;5;241m=\u001b[39m \u001b[38;5;28minput\u001b[39m(\u001b[38;5;124m\"\u001b[39m\u001b[38;5;124mInsert the slide direction (0: TOP | 1: BOTTOM | 2: LEFT | 3: RIGHT): \u001b[39m\u001b[38;5;124m\"\u001b[39m)\n",
      "\u001b[1;31mValueError\u001b[0m: invalid literal for int() with base 10: ''"
     ]
    }
   ],
   "source": [
    "player1 = MinmaxPlayer(max_depth=1, player_idx=0, strategy='max', verbose=True)\n",
    "player2 = MyPlayer()\n",
    "players = [player1, player2]\n",
    "\n",
    "game = Game()\n",
    "winner = game.play(player1, player2)\n",
    "\n",
    "print(f\"And the winner is......\")\n",
    "if winner == 0:\n",
    "    print(\"MinMax!\")\n",
    "else:\n",
    "    print(\"You!\")"
   ]
  },
  {
   "cell_type": "markdown",
   "metadata": {},
   "source": [
    "If you want to play against MonteCarlo as first play here!"
   ]
  },
  {
   "cell_type": "code",
   "execution_count": null,
   "metadata": {},
   "outputs": [],
   "source": [
    "if not Q:\n",
    "    print(\"You can't play here! Load the Q-table first\")\n",
    "    exit()\n",
    "\n",
    "player1 = MyPlayer()\n",
    "player2 = MontecarloPlayer(0, 0, Q)\n",
    "players = [player1, player2]\n",
    "\n",
    "game = Game()\n",
    "winner = game.play(player1, player2)\n",
    "\n",
    "print(f\"And the winner is......\")\n",
    "if winner == 0:\n",
    "    print(\"You!\")\n",
    "else:\n",
    "    print(\"MonteCarlo!\")"
   ]
  },
  {
   "cell_type": "markdown",
   "metadata": {},
   "source": [
    "If you want to play against MonteCarlo as second play here!"
   ]
  },
  {
   "cell_type": "code",
   "execution_count": null,
   "metadata": {},
   "outputs": [],
   "source": [
    "if not Q:\n",
    "    print(\"You can't play here! Load the Q-table first\")\n",
    "    exit()\n",
    "\n",
    "player1 = MontecarloPlayer(0, 0, Q)\n",
    "player2 = MyPlayer()\n",
    "players = [player1, player2]\n",
    "\n",
    "game = Game()\n",
    "winner = game.play(player1, player2)\n",
    "\n",
    "print(f\"And the winner is......\")\n",
    "if winner == 0:\n",
    "    print(\"You!\")\n",
    "else:\n",
    "    print(\"MonteCarlo!\")"
   ]
  }
 ],
 "metadata": {
  "kernelspec": {
   "display_name": "venv",
   "language": "python",
   "name": "python3"
  },
  "language_info": {
   "codemirror_mode": {
    "name": "ipython",
    "version": 3
   },
   "file_extension": ".py",
   "mimetype": "text/x-python",
   "name": "python",
   "nbconvert_exporter": "python",
   "pygments_lexer": "ipython3",
   "version": "3.10.11"
  }
 },
 "nbformat": 4,
 "nbformat_minor": 2
}
