{
 "cells": [
  {
   "cell_type": "markdown",
   "id": "185f9931-b384-4fdc-a5b2-eea785428bb8",
   "metadata": {},
   "source": [
    "Copyright **`(c)`** 2023 Giovanni Squillero `<giovanni.squillero@polito.it>`  \n",
    "[`https://github.com/squillero/computational-intelligence`](https://github.com/squillero/computational-intelligence)  \n",
    "Free for personal or classroom use; see [`LICENSE.md`](https://github.com/squillero/computational-intelligence/blob/master/LICENSE.md) for details.  "
   ]
  },
  {
   "cell_type": "code",
   "execution_count": 2,
   "id": "3ffe7245-e849-41d0-9698-5f0e0b83fee9",
   "metadata": {},
   "outputs": [],
   "source": [
    "from itertools import product\n",
    "from random import random, randint, shuffle, seed\n",
    "import numpy as np\n",
    "from scipy import sparse\n",
    "from functools import reduce\n",
    "from random import random, choice, randint\n",
    "from copy import copy\n",
    "from math import dist"
   ]
  },
  {
   "cell_type": "code",
   "execution_count": 3,
   "id": "6f03bd67-78a0-4d72-95b7-77a918727b91",
   "metadata": {},
   "outputs": [],
   "source": [
    "def make_set_covering_problem(num_points, num_sets, density):\n",
    "    \"\"\"Returns a sparse array where rows are sets and columns are the covered items\"\"\"\n",
    "    seed(num_points*2654435761+num_sets+density)\n",
    "    sets = sparse.lil_array((num_sets, num_points), dtype=bool)\n",
    "    for s, p in product(range(num_sets), range(num_points)):\n",
    "        if random() < density:\n",
    "            sets[s, p] = True\n",
    "    for p in range(num_points):\n",
    "        sets[randint(0, num_sets-1), p] = True\n",
    "    return sets.toarray()"
   ]
  },
  {
   "cell_type": "markdown",
   "id": "82b0be37-21d9-492d-9a1d-cf0cdf0ddd76",
   "metadata": {},
   "source": [
    "# Halloween Challenge\n",
    "\n",
    "Find the best solution with the fewest calls to the fitness functions for:\n",
    "\n",
    "* `num_points = [100, 1_000, 5_000]`\n",
    "* `num_sets = num_points`\n",
    "* `density = [.3, .7]` "
   ]
  },
  {
   "cell_type": "code",
   "execution_count": 28,
   "id": "221ffdba-5d3d-48cc-bd08-45ccc9366ea6",
   "metadata": {},
   "outputs": [
    {
     "name": "stdout",
     "output_type": "stream",
     "text": [
      "Element at row=42 and column=42: True\n"
     ]
    }
   ],
   "source": [
    "PROBLEM_SIZE = 5000\n",
    "NUM_SETS = PROBLEM_SIZE\n",
    "SETS = make_set_covering_problem(PROBLEM_SIZE, NUM_SETS, .3)\n",
    "print(\"Element at row=42 and column=42:\", SETS[42, 42])"
   ]
  },
  {
   "cell_type": "code",
   "execution_count": 8,
   "id": "6492337b-8429-472d-9c3e-c79c5b46da54",
   "metadata": {},
   "outputs": [],
   "source": [
    "def fitness1(state):\n",
    "    cost = sum(state)\n",
    "    valid = np.all(\n",
    "        reduce(\n",
    "            np.logical_or,\n",
    "            [SETS[i] for i, t in enumerate(state) if t],\n",
    "            np.array([False for _ in range(PROBLEM_SIZE)]),\n",
    "        )\n",
    "    )\n",
    "    return valid, -cost\n",
    "\n",
    "def fitness2(state):\n",
    "    global COUNTER\n",
    "    COUNTER += 1\n",
    "    cost = sum(state)\n",
    "    valid = np.sum(\n",
    "        reduce(\n",
    "            np.logical_or,\n",
    "            [SETS[i] for i, t in enumerate(state) if t],\n",
    "            np.array([False for _ in range(PROBLEM_SIZE)]),\n",
    "        )\n",
    "    )\n",
    "    return valid, -cost\n",
    "\n",
    "fitness = fitness2"
   ]
  },
  {
   "cell_type": "code",
   "execution_count": 9,
   "id": "86a4c909",
   "metadata": {},
   "outputs": [],
   "source": [
    "def tweak(state):\n",
    "    new_state = copy(state)\n",
    "    index = randint(0, PROBLEM_SIZE - 1)\n",
    "    new_state[index] = not new_state[index]\n",
    "    return new_state\n",
    "\n",
    "def tweak2(state):\n",
    "    new_state = copy(state)\n",
    "    n = randint(0, 2)\n",
    "    indexes = [randint(0, PROBLEM_SIZE - 1) for _ in range(n)]\n",
    "    for index in indexes:\n",
    "        new_state[index] = not new_state[index]\n",
    "    return new_state\n",
    "\n",
    "def tweak3(state):\n",
    "    new_state = copy(state)\n",
    "    num_samples_insert = 10\n",
    "    \n",
    "    indexes = [randint(0, PROBLEM_SIZE-1) for _ in range(num_samples_insert)]\n",
    "    distances = [dist(state, SETS[index]) for index in indexes]\n",
    "    index = indexes[np.argmin(distances)]\n",
    "    new_state[index] = not new_state[index]\n",
    "    \n",
    "    return new_state\n",
    "    \n",
    "tweak = tweak3"
   ]
  },
  {
   "cell_type": "code",
   "execution_count": 29,
   "id": "0de42a0c",
   "metadata": {},
   "outputs": [
    {
     "name": "stdout",
     "output_type": "stream",
     "text": [
      "(1446, -1)\n",
      "(2491, -2)\n",
      "(3230, -3)\n",
      "(3736, -4)\n",
      "(4099, -5)\n",
      "(4376, -6)\n",
      "(4582, -7)\n",
      "(4694, -8)\n",
      "(4779, -9)\n",
      "(4850, -10)\n",
      "(4899, -11)\n",
      "(4925, -12)\n",
      "(4955, -13)\n",
      "(4966, -14)\n",
      "(4974, -15)\n",
      "(4987, -16)\n",
      "(4992, -17)\n",
      "(4994, -18)\n",
      "(4998, -19)\n",
      "(4999, -20)\n",
      "(5000, -21)\n",
      "(5000, -20)\n",
      "213\n"
     ]
    }
   ],
   "source": [
    "current_state = [choice([False, False, False, False, False, False]) for _ in range(NUM_SETS)]\n",
    "#print(fitness(current_state))\n",
    "COUNTER = 0\n",
    "no_improvement = 0\n",
    "best_fitness = (0, 0)\n",
    "\n",
    "for step in range(10_000):\n",
    "    new_state = tweak(current_state)\n",
    "    no_improvement += 1\n",
    "    new_fitness = fitness(new_state)\n",
    "    if new_fitness > best_fitness:\n",
    "        best_fitness = new_fitness\n",
    "        current_state = new_state\n",
    "        no_improvement = 0\n",
    "        print(best_fitness)\n",
    "    if no_improvement > 100:\n",
    "        break\n",
    "\n",
    "print(COUNTER)"
   ]
  }
 ],
 "metadata": {
  "kernelspec": {
   "display_name": "Python 3 (ipykernel)",
   "language": "python",
   "name": "python3"
  },
  "language_info": {
   "codemirror_mode": {
    "name": "ipython",
    "version": 3
   },
   "file_extension": ".py",
   "mimetype": "text/x-python",
   "name": "python",
   "nbconvert_exporter": "python",
   "pygments_lexer": "ipython3",
   "version": "3.9.8"
  }
 },
 "nbformat": 4,
 "nbformat_minor": 5
}
