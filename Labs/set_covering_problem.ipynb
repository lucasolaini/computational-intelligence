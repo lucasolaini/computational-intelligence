{
 "cells": [
  {
   "cell_type": "markdown",
   "id": "ae76d654",
   "metadata": {},
   "source": [
    "Import required libraries"
   ]
  },
  {
   "cell_type": "code",
   "execution_count": 1,
   "id": "6fec8f01",
   "metadata": {},
   "outputs": [
    {
     "name": "stderr",
     "output_type": "stream",
     "text": [
      "C:\\Users\\lucas\\AppData\\Local\\Packages\\PythonSoftwareFoundation.Python.3.10_qbz5n2kfra8p0\\LocalCache\\local-packages\\Python310\\site-packages\\tqdm\\auto.py:21: TqdmWarning: IProgress not found. Please update jupyter and ipywidgets. See https://ipywidgets.readthedocs.io/en/stable/user_install.html\n",
      "  from .autonotebook import tqdm as notebook_tqdm\n"
     ]
    }
   ],
   "source": [
    "import numpy as np\n",
    "from random import random\n",
    "from functools import reduce\n",
    "from collections import namedtuple, deque\n",
    "from queue import PriorityQueue, SimpleQueue, LifoQueue\n",
    "from tqdm.auto import tqdm\n",
    "from math import ceil"
   ]
  },
  {
   "cell_type": "markdown",
   "id": "7628ad96",
   "metadata": {},
   "source": [
    "Define useful functions"
   ]
  },
  {
   "cell_type": "code",
   "execution_count": 2,
   "id": "60f70501",
   "metadata": {},
   "outputs": [],
   "source": [
    "State = namedtuple('State', ['taken', 'not_taken'])\n",
    "\n",
    "def goal_check(state):\n",
    "    return np.all(covered(state))\n",
    "\n",
    "def covered(state):\n",
    "    return reduce(\n",
    "        np.logical_or,\n",
    "        [SETS[i] for i in state.taken],\n",
    "        np.array([False for _ in range(PROBLEM_SIZE)])\n",
    "    )\n",
    "\n",
    "def show_frontier(frontier: PriorityQueue):\n",
    "    elements = list()\n",
    "\n",
    "    print(\"\\nFrontier: \")\n",
    "    print('--------------------------------------')\n",
    "    print('State\\t\\tPriority')\n",
    "\n",
    "    while not frontier.empty():\n",
    "        priority, state = frontier.get()\n",
    "        elements.append((priority, state))\n",
    "        print(state.taken, '\\t\\t', priority,)\n",
    "        \n",
    "    print('--------------------------------------')\n",
    "\n",
    "\n",
    "    for element in elements:\n",
    "        frontier.put(element)"
   ]
  },
  {
   "cell_type": "markdown",
   "id": "cb8de72b",
   "metadata": {},
   "source": [
    "Define problem variables and check if the problem is feasible"
   ]
  },
  {
   "cell_type": "code",
   "execution_count": 97,
   "id": "4d9690a8",
   "metadata": {},
   "outputs": [],
   "source": [
    "PROBLEM_SIZE = 10\n",
    "NUM_SETS = 20\n",
    "SETS = tuple(np.array([random() < .2 for _ in range(PROBLEM_SIZE)]) for _ in range(NUM_SETS))\n",
    "\n",
    "assert goal_check(State(set(range(NUM_SETS)), set())), \"Problem not solvable\""
   ]
  },
  {
   "cell_type": "markdown",
   "id": "a5c93397",
   "metadata": {},
   "source": [
    "**Remarkable example(s)**\\\n",
    "Using these examples to test A* implementation. Greedy best first does not work with these examples."
   ]
  },
  {
   "cell_type": "code",
   "execution_count": 198,
   "id": "b8b43e47",
   "metadata": {},
   "outputs": [],
   "source": [
    "PROBLEM_SIZE = 6\n",
    "NUM_SETS = 4\n",
    "SETS = tuple(\n",
    "    [np.array([True, True, True, False, False, False]),\n",
    "    np.array([True, False, False, False, False, True]),\n",
    "    np.array([False, True, False, False, True, False]),\n",
    "    np.array([False, False, True, True, False, False])]\n",
    ")\n",
    "State = namedtuple('State', ['taken', 'not_taken'])"
   ]
  },
  {
   "cell_type": "code",
   "execution_count": 54,
   "id": "6d21594c",
   "metadata": {},
   "outputs": [],
   "source": [
    "PROBLEM_SIZE = 6\n",
    "NUM_SETS = 3\n",
    "SETS = tuple(\n",
    "    [np.array([True, True, True, True, False, False]),\n",
    "    np.array([True, True, False, False, False, True]),\n",
    "    np.array([False, False, True, True, True, False])]\n",
    ")\n",
    "State = namedtuple('State', ['taken', 'not_taken'])"
   ]
  },
  {
   "cell_type": "markdown",
   "id": "4b7ae084",
   "metadata": {},
   "source": [
    "**Depth First Search**"
   ]
  },
  {
   "cell_type": "code",
   "execution_count": 84,
   "id": "60bf4c47",
   "metadata": {},
   "outputs": [
    {
     "name": "stderr",
     "output_type": "stream",
     "text": [
      "20it [00:00, 27351.18it/s]"
     ]
    },
    {
     "name": "stdout",
     "output_type": "stream",
     "text": [
      "Solved in 20 steps (20) tiles\n",
      "Tiles taken: {20, 21, 22, 23, 24, 25, 26, 27, 28, 29, 30, 31, 32, 33, 34, 35, 36, 37, 38, 39}\n"
     ]
    },
    {
     "name": "stderr",
     "output_type": "stream",
     "text": [
      "\n"
     ]
    }
   ],
   "source": [
    "frontier = deque()\n",
    "state = State(set(), set(range(NUM_SETS)))\n",
    "frontier.append(state)\n",
    "\n",
    "counter = 0\n",
    "current_state = frontier.pop()\n",
    "with tqdm(total=None) as pbar:\n",
    "    while not goal_check(current_state):\n",
    "        counter += 1\n",
    "        for action in current_state.not_taken:\n",
    "            new_state = State(\n",
    "                current_state.taken ^ {action},\n",
    "                current_state.not_taken ^ {action}\n",
    "            )\n",
    "            frontier.append(new_state)\n",
    "        current_state = frontier.pop()\n",
    "        pbar.update(1)\n",
    "\n",
    "print(f'Solved in {counter} steps ({len(current_state.taken)}) tiles')\n",
    "print(f'Tiles taken:', current_state.taken)"
   ]
  },
  {
   "cell_type": "markdown",
   "id": "1b44615a",
   "metadata": {},
   "source": [
    "**Breadth First Search**\\\n",
    "Guarantees to find the best solution."
   ]
  },
  {
   "cell_type": "code",
   "execution_count": 28,
   "id": "4c40602b",
   "metadata": {},
   "outputs": [
    {
     "name": "stderr",
     "output_type": "stream",
     "text": [
      "0it [00:00, ?it/s]"
     ]
    },
    {
     "name": "stderr",
     "output_type": "stream",
     "text": [
      "7968it [00:00, 14942.43it/s]"
     ]
    },
    {
     "name": "stdout",
     "output_type": "stream",
     "text": [
      "Solved in 7968 steps (4) tiles\n",
      "Tiles taken: {16, 8, 3, 0}\n"
     ]
    },
    {
     "name": "stderr",
     "output_type": "stream",
     "text": [
      "\n"
     ]
    }
   ],
   "source": [
    "frontier = deque()\n",
    "state = State(set(), set(range(NUM_SETS)))\n",
    "frontier.append(state)\n",
    "\n",
    "counter = 0\n",
    "current_state = frontier.popleft()\n",
    "\n",
    "with  tqdm(total=None) as pbar:\n",
    "    while not goal_check(current_state):\n",
    "        counter += 1\n",
    "        for action in current_state.not_taken:\n",
    "            new_state = State(\n",
    "                current_state.taken ^ {action},\n",
    "                current_state.not_taken ^ {action}\n",
    "                )\n",
    "            frontier.append(new_state)\n",
    "        current_state = frontier.popleft()\n",
    "        pbar.update(1)\n",
    "    \n",
    "print(f'Solved in {counter} steps ({len(current_state.taken)}) tiles')\n",
    "print(f'Tiles taken:', current_state.taken)"
   ]
  },
  {
   "cell_type": "markdown",
   "id": "10169052",
   "metadata": {},
   "source": [
    "**Greedy Best First**\\\n",
    "Finds a good solution in a limited number of steps. Does not guarantee to find the best solution. Needs a function to define how far the current state is from the solution."
   ]
  },
  {
   "cell_type": "code",
   "execution_count": 19,
   "id": "c2b48425",
   "metadata": {},
   "outputs": [],
   "source": [
    "def distance(state):\n",
    "    missing_size = PROBLEM_SIZE - sum(covered(state))\n",
    "    return missing_size"
   ]
  },
  {
   "cell_type": "code",
   "execution_count": 20,
   "id": "bff5506a",
   "metadata": {},
   "outputs": [
    {
     "name": "stderr",
     "output_type": "stream",
     "text": [
      "4it [00:00, ?it/s]"
     ]
    },
    {
     "name": "stdout",
     "output_type": "stream",
     "text": [
      "Solved in 4 steps (4) tiles\n",
      "Tiles taken: {0, 1, 12, 17}\n"
     ]
    },
    {
     "name": "stderr",
     "output_type": "stream",
     "text": [
      "\n"
     ]
    }
   ],
   "source": [
    "frontier = PriorityQueue()\n",
    "state = State(set(), set(range(NUM_SETS)))\n",
    "frontier.put((distance(state), state))\n",
    "\n",
    "counter = 0\n",
    "\n",
    "_, current_state = frontier.get()\n",
    "\n",
    "with tqdm(total=None) as pbar:\n",
    "    while not goal_check(current_state):\n",
    "        counter += 1\n",
    "\n",
    "        for action in current_state.not_taken:\n",
    "            new_state = State(current_state.taken ^ {action}, current_state.not_taken ^ {action})\n",
    "            frontier.put((distance(new_state), new_state))\n",
    "        _, current_state = frontier.get()\n",
    "        pbar.update(1)\n",
    "\n",
    "print(f'Solved in {counter} steps ({len(current_state.taken)}) tiles')\n",
    "print(f'Tiles taken:', current_state.taken)"
   ]
  },
  {
   "cell_type": "markdown",
   "id": "9d54745a",
   "metadata": {},
   "source": [
    "**A***\\\n",
    "Complete and optimally efficient solution. Needs to the find a cost function and a heuristic. The heuristic must be **optimistic**."
   ]
  },
  {
   "cell_type": "markdown",
   "id": "91162f90",
   "metadata": {},
   "source": [
    "Heuristics proposed by the professor"
   ]
  },
  {
   "cell_type": "code",
   "execution_count": 106,
   "id": "3363b869",
   "metadata": {},
   "outputs": [],
   "source": [
    "def h(state):\n",
    "    largest_set_size = max(sum(s) for s in SETS)\n",
    "    missing_size = PROBLEM_SIZE - sum(covered(state))\n",
    "    optimistic_estimate = ceil(missing_size / largest_set_size)\n",
    "    return optimistic_estimate\n",
    "\n",
    "def h2(state):\n",
    "    already_covered = covered(state)\n",
    "    if np.all(already_covered):\n",
    "        return 0\n",
    "    largest_set_size = max(sum(np.logical_and(s, np.logical_not(already_covered))) for s in SETS)\n",
    "    missing_size = PROBLEM_SIZE - sum(covered(state))\n",
    "    optimistic_estimate = ceil(missing_size / largest_set_size)\n",
    "    return optimistic_estimate\n",
    "\n",
    "def h3(state):\n",
    "    already_covered = covered(state)\n",
    "    if np.all(already_covered):\n",
    "        return 0\n",
    "    missing_size = PROBLEM_SIZE - sum(covered(state))\n",
    "    candidates = sorted((sum(np.logical_and(s, np.logical_not(already_covered))) for s in SETS), reverse=True)\n",
    "\n",
    "    taken = 1\n",
    "    while sum(candidates[:taken]) < missing_size:\n",
    "        taken += 1\n",
    "    return taken"
   ]
  },
  {
   "cell_type": "markdown",
   "id": "2191734d",
   "metadata": {},
   "source": [
    "Heuristics proposed by me"
   ]
  },
  {
   "cell_type": "code",
   "execution_count": 91,
   "id": "62909167",
   "metadata": {},
   "outputs": [],
   "source": [
    "# actually does not work, not optimistic\n",
    "def h4(state):\n",
    "    \"\"\"Considers the tile that covers the maximum number of uncovered elements as the next tile taken\n",
    "       and estimates the number of remaining tiles to take through h3. Actually not optimistic.\n",
    "    \"\"\"\n",
    "    already_covered = covered(state)\n",
    "    if np.all(already_covered):\n",
    "        return 0\n",
    "    best_candidate_set = np.argmax(sum(np.logical_and(s, np.logical_not(already_covered))) for s in SETS)\n",
    "    probable_next_state = State(state.taken ^ {best_candidate_set}, state.not_taken ^ {best_candidate_set})\n",
    "\n",
    "    return h3(probable_next_state) + 1\n",
    "\n",
    "def h5(state):\n",
    "    \"\"\"Applies the same idea of h3 to h: sorts the tiles not taken by decreasing order (without considering uncovered elements)\n",
    "       to estimate the number of remaining tiles.\n",
    "       Actually perform worse than h.\n",
    "    \"\"\"\n",
    "    candidates = sorted((sum(SETS[i]) for i in state.not_taken), reverse=True)\n",
    "    missing_size = PROBLEM_SIZE - sum(covered(state))\n",
    "    taken = 1\n",
    "    while sum(candidates[:taken]) < missing_size:\n",
    "        taken += 1\n",
    "    return taken\n",
    "\n",
    "def h6(state):\n",
    "    \"\"\"Slight improvement in terms of computational efficience w.r.t. h2: instead of considering all the sets as candidates,\n",
    "       just considerates the ones not taken.\n",
    "    \"\"\"\n",
    "    already_covered = covered(state)\n",
    "    if np.all(already_covered):\n",
    "        return 0\n",
    "    largest_set_size = max(sum(np.logical_and(SETS[i], np.logical_not(already_covered))) for i in state.not_taken)\n",
    "    missing_size = PROBLEM_SIZE - sum(covered(state))\n",
    "    optimistic_estimate = ceil(missing_size / largest_set_size)\n",
    "    return optimistic_estimate\n",
    "\n",
    "def h7(state):\n",
    "    \"\"\"Slight improvement in terms of computational efficience w.r.t. h3: instead of considering all the sets as candidates,\n",
    "       just considerates the ones not taken. (Same improvement as h6)\n",
    "    \"\"\"\n",
    "    already_covered = covered(state)\n",
    "    if np.all(already_covered):\n",
    "        return 0\n",
    "    missing_size = PROBLEM_SIZE - sum(covered(state))\n",
    "    candidates = sorted((sum(np.logical_and(SETS[i], np.logical_not(already_covered))) for i in state.not_taken), reverse=True)\n",
    "    taken = 1\n",
    "    while sum(candidates[:taken]) < missing_size:\n",
    "        taken += 1\n",
    "    return taken\n",
    "\n",
    "def h8(state):\n",
    "    \"\"\"Estimates the remaining number of tiles (through h2) after adding a candidate to the solution.\n",
    "       In other words takes one step in the future. In this way the number of steps required by A* should\n",
    "       decrease, but the number of inner steps (inside the heuristic) increases.\n",
    "\n",
    "    \"\"\"\n",
    "    already_covered = covered(state)\n",
    "    if np.all(already_covered):\n",
    "        return 0\n",
    "    \n",
    "    candidates = [sum(np.logical_and(SETS[i], np.logical_not(already_covered))) for i in state.not_taken]\n",
    "    min_taken = PROBLEM_SIZE\n",
    "\n",
    "    for candidate in candidates:\n",
    "        probable_next_state = State(state.taken ^ {candidate}, state.not_taken ^ {candidate})\n",
    "        taken = h2(probable_next_state)\n",
    "        if taken < min_taken:\n",
    "            min_taken = taken\n",
    "\n",
    "    return min_taken + 1\n",
    "\n",
    "def h9(state):\n",
    "    \"\"\"Same as h8 but uses h3 to estimate the future remaining numer of tiles.\n",
    "       Estimates the remaining number of tiles (through h3) after adding a candidate to the solution.\n",
    "       In other words takes one step in the future. In this way the number of steps required by A* should\n",
    "       decrease, but the number of inner steps (inside the heuristic) increases.\n",
    "       Less number of outer iterations (steps required by A*) but higher number of inner iterations\n",
    "       (steps required by h9) w.r.t. h8.\n",
    "\n",
    "    \"\"\"\n",
    "    already_covered = covered(state)\n",
    "    if np.all(already_covered):\n",
    "        return 0\n",
    "    \n",
    "    candidates = [sum(np.logical_and(SETS[i], np.logical_not(already_covered))) for i in state.not_taken]\n",
    "    min_taken = PROBLEM_SIZE\n",
    "\n",
    "    for candidate in candidates:\n",
    "        probable_next_state = State(state.taken ^ {candidate}, state.not_taken ^ {candidate})\n",
    "        taken = h3(probable_next_state)\n",
    "        if taken < min_taken:\n",
    "            min_taken = taken\n",
    "\n",
    "    return min_taken + 1"
   ]
  },
  {
   "cell_type": "markdown",
   "id": "98f7ca75",
   "metadata": {},
   "source": [
    "Cost function proposed by the professor"
   ]
  },
  {
   "cell_type": "code",
   "execution_count": 9,
   "id": "cda0468b",
   "metadata": {},
   "outputs": [],
   "source": [
    "def c(state):\n",
    "    return len(state.taken)"
   ]
  },
  {
   "cell_type": "code",
   "execution_count": 10,
   "id": "cd0a4cb8",
   "metadata": {},
   "outputs": [],
   "source": [
    "def f(state, cost_function, heuristic_function):\n",
    "    return cost_function(state) + heuristic_function(state)"
   ]
  },
  {
   "cell_type": "markdown",
   "id": "1fd21ec9",
   "metadata": {},
   "source": [
    "Set  <mark>verbose=True</mark> to understand how the priority queue behaves. Warning: just do it on small instances of the problem."
   ]
  },
  {
   "cell_type": "code",
   "execution_count": 114,
   "id": "5e3ef8e5",
   "metadata": {},
   "outputs": [],
   "source": [
    "cost_function = lambda state: c(state)\n",
    "heuristic_function = lambda state: h8(state)"
   ]
  },
  {
   "cell_type": "code",
   "execution_count": 115,
   "id": "4cbd21be",
   "metadata": {},
   "outputs": [
    {
     "name": "stdout",
     "output_type": "stream",
     "text": [
      "Solved in 111 steps (4) tiles\n",
      "Tiles taken: {9, 2, 11, 15}\n"
     ]
    }
   ],
   "source": [
    "verbose = False\n",
    "\n",
    "frontier = PriorityQueue()\n",
    "state = State(set(), set(range(NUM_SETS)))\n",
    "frontier.put((f(state, cost_function, heuristic_function), state))\n",
    "\n",
    "counter = 0\n",
    "\n",
    "_, current_state = frontier.get()\n",
    "\n",
    "while not goal_check(current_state):\n",
    "    counter += 1\n",
    "\n",
    "    for action in current_state.not_taken:\n",
    "        new_state = State(current_state.taken ^ {action}, current_state.not_taken ^ {action})\n",
    "        frontier.put((f(new_state, cost_function, heuristic_function), new_state))\n",
    "    \n",
    "    if verbose:\n",
    "        show_frontier(frontier)\n",
    "        print('\\nThe current state is:', current_state)\n",
    "        \n",
    "    _, current_state = frontier.get()\n",
    "\n",
    "print(f'Solved in {counter} steps ({len(current_state.taken)}) tiles')\n",
    "print(f'Tiles taken:', current_state.taken)"
   ]
  }
 ],
 "metadata": {
  "kernelspec": {
   "display_name": "Python 3 (ipykernel)",
   "language": "python",
   "name": "python3"
  },
  "language_info": {
   "codemirror_mode": {
    "name": "ipython",
    "version": 3
   },
   "file_extension": ".py",
   "mimetype": "text/x-python",
   "name": "python",
   "nbconvert_exporter": "python",
   "pygments_lexer": "ipython3",
   "version": "3.10.11"
  }
 },
 "nbformat": 4,
 "nbformat_minor": 5
}
