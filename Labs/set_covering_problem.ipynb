{
 "cells": [
  {
   "cell_type": "code",
   "execution_count": 12,
   "id": "ae76d654",
   "metadata": {},
   "outputs": [],
   "source": [
    "import numpy as np\n",
    "from random import random\n",
    "from functools import reduce\n",
    "from collections import namedtuple\n",
    "from queue import PriorityQueue, SimpleQueue, LifoQueue"
   ]
  },
  {
   "cell_type": "code",
   "execution_count": 13,
   "id": "4d9690a8",
   "metadata": {},
   "outputs": [],
   "source": [
    "np.random.seed(42)\n",
    "\n",
    "PROBLEM_SIZE = 5\n",
    "NUM_SETS = 30\n",
    "SETS = tuple(np.array([random() < .2 for _ in range(PROBLEM_SIZE)]) for _ in range(NUM_SETS))\n",
    "State = namedtuple('State', ['taken', 'not_taken'])"
   ]
  },
  {
   "cell_type": "markdown",
   "id": "a5c93397",
   "metadata": {},
   "source": [
    "**Remarkable example(s)**\\\n",
    "Using these examples to test A* implementation"
   ]
  },
  {
   "cell_type": "code",
   "execution_count": 14,
   "id": "b8b43e47",
   "metadata": {},
   "outputs": [],
   "source": [
    "PROBLEM_SIZE = 6\n",
    "NUM_SETS = 4\n",
    "SETS = tuple(\n",
    "    [np.array([True, True, True, False, False, False]),\n",
    "    np.array([True, False, False, False, False, True]),\n",
    "    np.array([False, True, False, False, True, False]),\n",
    "    np.array([False, False, True, True, False, False])]\n",
    ")\n",
    "State = namedtuple('State', ['taken', 'not_taken'])"
   ]
  },
  {
   "cell_type": "code",
   "execution_count": 15,
   "id": "26ca383c",
   "metadata": {},
   "outputs": [],
   "source": [
    "def goal_check(state):\n",
    "    return np.all(reduce(np.logical_or, [SETS[i] for i in state.taken], np.array([False for _ in range(PROBLEM_SIZE)])))\n",
    "\n",
    "def distance(state):\n",
    "    return PROBLEM_SIZE - sum(reduce(np.logical_or, [SETS[i] for i in state.taken], np.array([False for _ in range(PROBLEM_SIZE)])))\n"
   ]
  },
  {
   "cell_type": "code",
   "execution_count": 16,
   "id": "d29d8bf9",
   "metadata": {},
   "outputs": [],
   "source": [
    "assert goal_check(State(set(range(NUM_SETS)), set())), \"Problem not solvable.\""
   ]
  },
  {
   "cell_type": "code",
   "execution_count": 17,
   "id": "4b7ae084",
   "metadata": {},
   "outputs": [],
   "source": [
    "def show_frontier(frontier: PriorityQueue):\n",
    "    elements = list()\n",
    "\n",
    "    print(\"\\nFrontier: \")\n",
    "    print('--------------------------------------')\n",
    "    print('State\\t\\tDistance + Sets Taken')\n",
    "\n",
    "    while not frontier.empty():\n",
    "        priority, state = frontier.get()\n",
    "        elements.append((priority, state))\n",
    "        print(state.taken, '\\t\\t', priority,)\n",
    "        \n",
    "    print('--------------------------------------')\n",
    "\n",
    "\n",
    "    for element in elements:\n",
    "        frontier.put(element)"
   ]
  },
  {
   "cell_type": "markdown",
   "id": "77db2a15",
   "metadata": {},
   "source": [
    "**Greedy Best First**\\\n",
    "Finds a good solution in a limited number of steps"
   ]
  },
  {
   "cell_type": "code",
   "execution_count": 18,
   "id": "001b6fba",
   "metadata": {},
   "outputs": [
    {
     "name": "stdout",
     "output_type": "stream",
     "text": [
      "Solved in 4 steps\n",
      "Solution: {0, 1, 2, 3}\n"
     ]
    }
   ],
   "source": [
    "frontier = PriorityQueue()\n",
    "state = State(set(), set(range(NUM_SETS)))\n",
    "frontier.put((distance(state), state))\n",
    "\n",
    "counter = 0\n",
    "\n",
    "_, current_state = frontier.get()\n",
    "\n",
    "while not goal_check(current_state):\n",
    "    counter += 1\n",
    "\n",
    "    for action in current_state.not_taken:\n",
    "        new_state = State(current_state.taken ^ {action}, current_state.not_taken ^ {action})\n",
    "        frontier.put((distance(new_state), new_state))\n",
    "    _, current_state = frontier.get()\n",
    "\n",
    "print(f'Solved in {counter} steps')\n",
    "print(f'Solution: {current_state.taken}')"
   ]
  },
  {
   "cell_type": "markdown",
   "id": "1b44615a",
   "metadata": {},
   "source": [
    "**Breadth First Search**\\\n",
    "Guarantees to find the best solution."
   ]
  },
  {
   "cell_type": "code",
   "execution_count": 19,
   "id": "4c40602b",
   "metadata": {},
   "outputs": [
    {
     "name": "stdout",
     "output_type": "stream",
     "text": [
      "Solved in 26 steps\n",
      "Solution: {1, 2, 3}\n"
     ]
    }
   ],
   "source": [
    "frontier = SimpleQueue()\n",
    "state = State(set(), set(range(NUM_SETS)))\n",
    "frontier.put((distance(state), state))\n",
    "\n",
    "counter = 0\n",
    "_, current_state = frontier.get()\n",
    "while not goal_check(current_state):\n",
    "    counter += 1\n",
    "    for action in current_state.not_taken:\n",
    "        new_state = State(current_state.taken ^ {action}, current_state.not_taken ^ {action})\n",
    "        frontier.put((distance(new_state), new_state))\n",
    "    _, current_state = frontier.get()\n",
    "    \n",
    "print(f'Solved in {counter} steps')\n",
    "print(f'Solution: {current_state.taken}')"
   ]
  },
  {
   "cell_type": "markdown",
   "id": "9d54745a",
   "metadata": {},
   "source": [
    "**A***\\\n",
    "Complete and optimally efficient solution"
   ]
  },
  {
   "cell_type": "markdown",
   "id": "1fd21ec9",
   "metadata": {},
   "source": [
    "Using as cost function the number of taken sets does not always guarantee to find the optimal solution. Use as example the *remarkable example* above. Set  <mark>verbose=True</mark> to understand how the priority queue behaves."
   ]
  },
  {
   "cell_type": "code",
   "execution_count": 20,
   "id": "4cbd21be",
   "metadata": {},
   "outputs": [
    {
     "name": "stdout",
     "output_type": "stream",
     "text": [
      "Solved in 11 steps\n",
      "Solution: {0, 1, 2, 3}\n"
     ]
    }
   ],
   "source": [
    "verbose = False\n",
    "\n",
    "frontier = PriorityQueue()\n",
    "state = State(set(), set(range(NUM_SETS)))\n",
    "frontier.put((distance(state), state))\n",
    "\n",
    "counter = 0\n",
    "\n",
    "_, current_state = frontier.get()\n",
    "\n",
    "while not goal_check(current_state):\n",
    "    counter += 1\n",
    "\n",
    "    for action in current_state.not_taken:\n",
    "        new_state = State(current_state.taken ^ {action}, current_state.not_taken ^ {action})\n",
    "        frontier.put((distance(new_state) + len(current_state.taken), new_state))\n",
    "\n",
    "    if verbose:\n",
    "        show_frontier(frontier)\n",
    "        print('\\nThe current state is:', current_state)\n",
    "        print('Distance:', distance(current_state))\n",
    "        print('Tiles taken:', len(current_state.taken), '\\n')\n",
    "        \n",
    "    _, current_state = frontier.get()\n",
    "\n",
    "print(f'Solved in {counter} steps')\n",
    "print(f'Solution: {current_state.taken}')"
   ]
  },
  {
   "cell_type": "markdown",
   "id": "927e5472",
   "metadata": {},
   "source": [
    "Instead, using as cost function *(1.5 * number of taken sets)* guarantees to find the optimal solution."
   ]
  },
  {
   "cell_type": "code",
   "execution_count": 21,
   "id": "5ef3dcf7",
   "metadata": {},
   "outputs": [
    {
     "name": "stdout",
     "output_type": "stream",
     "text": [
      "Solved in 8 steps\n",
      "Solution: {1, 2, 3}\n"
     ]
    }
   ],
   "source": [
    "verbose = False\n",
    "\n",
    "frontier = PriorityQueue()\n",
    "state = State(set(), set(range(NUM_SETS)))\n",
    "frontier.put((distance(state), state))\n",
    "\n",
    "counter = 0\n",
    "\n",
    "_, current_state = frontier.get()\n",
    "\n",
    "while not goal_check(current_state):\n",
    "    counter += 1\n",
    "\n",
    "    for action in current_state.not_taken:\n",
    "        new_state = State(current_state.taken ^ {action}, current_state.not_taken ^ {action})\n",
    "        frontier.put((distance(new_state)+len(current_state.taken)*1.5, new_state))\n",
    "\n",
    "    if verbose:\n",
    "        show_frontier(frontier)\n",
    "        print('\\nThe current state is:', current_state)\n",
    "        print('Distance:', distance(current_state))\n",
    "        print('Sets taken:', len(current_state.taken), '\\n')\n",
    "        \n",
    "    _, current_state = frontier.get()\n",
    "\n",
    "print(f'Solved in {counter} steps')\n",
    "print(f'Solution: {current_state.taken}')"
   ]
  },
  {
   "cell_type": "markdown",
   "id": "73412ae2",
   "metadata": {},
   "source": []
  }
 ],
 "metadata": {
  "kernelspec": {
   "display_name": "Python 3 (ipykernel)",
   "language": "python",
   "name": "python3"
  },
  "language_info": {
   "codemirror_mode": {
    "name": "ipython",
    "version": 3
   },
   "file_extension": ".py",
   "mimetype": "text/x-python",
   "name": "python",
   "nbconvert_exporter": "python",
   "pygments_lexer": "ipython3",
   "version": "3.10.11"
  }
 },
 "nbformat": 4,
 "nbformat_minor": 5
}
